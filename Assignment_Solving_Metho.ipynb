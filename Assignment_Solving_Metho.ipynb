{
  "nbformat": 4,
  "nbformat_minor": 0,
  "metadata": {
    "colab": {
      "name": "Assignment_Solving_Metho.ipynb",
      "provenance": [],
      "toc_visible": true,
      "authorship_tag": "ABX9TyMTC+ztW6E1DXHvnVxKdA4h",
      "include_colab_link": true
    },
    "kernelspec": {
      "name": "python3",
      "display_name": "Python 3"
    },
    "language_info": {
      "name": "python"
    }
  },
  "cells": [
    {
      "cell_type": "markdown",
      "metadata": {
        "id": "view-in-github",
        "colab_type": "text"
      },
      "source": [
        "<a href=\"https://colab.research.google.com/github/wayamhui/ISYS5002_Assignment/blob/main/Assignment_Solving_Metho.ipynb\" target=\"_parent\"><img src=\"https://colab.research.google.com/assets/colab-badge.svg\" alt=\"Open In Colab\"/></a>"
      ]
    },
    {
      "cell_type": "markdown",
      "metadata": {
        "id": "dh2_pybG580x"
      },
      "source": [
        "# Section 1"
      ]
    },
    {
      "cell_type": "markdown",
      "metadata": {
        "id": "U2k7OMhX6DC9"
      },
      "source": [
        "Problem Solving Methodology\n"
      ]
    },
    {
      "cell_type": "markdown",
      "metadata": {
        "id": "5eu5ESw95zaF"
      },
      "source": [
        "\n",
        "▪ State the problem clearly\n",
        "\n",
        "▪ Describe the input and output\n",
        "\n",
        "▪ Work a simple example by hand\n",
        "\n",
        "▪ Develop and algorithm (and convert to Python)\n",
        "\n",
        "▪ Test solution with a variety of data"
      ]
    },
    {
      "cell_type": "markdown",
      "metadata": {
        "id": "hBCPpOUB6uV9"
      },
      "source": [
        "Program need: write a notebook that prompts the user for a company's stock market ticker symbol. Then for each\n",
        "executive calculate the expected income tax based on the ATO tax tables. \n",
        "\n",
        "Input: ticker symbol \n",
        "(Is this meaning stock code?)\n",
        "\n",
        "Output: income tax of each executive\n",
        "\n",
        "Processing\n",
        "\n",
        "ToDo: scrapping to find the website content is the most difficult part, how to skip HTML/table format/title information and \"jump\" to the interested content of salary info of key executives\n",
        "\n"
      ]
    },
    {
      "cell_type": "markdown",
      "metadata": {
        "id": "JR8WoMKo7mNF"
      },
      "source": [
        "What data to save?\n",
        "\n",
        "To explore web\n",
        "\n",
        "1. Search for Coles\n",
        "https://finance.yahoo.com/quote/col.ax/?p=col.ax\n",
        "\n",
        "2. Search for NAB\n",
        "https://finance.yahoo.com/quote/nab.ax/?p=nab.ax"
      ]
    },
    {
      "cell_type": "markdown",
      "metadata": {
        "id": "xZBh0NsM7keW"
      },
      "source": [
        "Shortcut the URL\n",
        "\n",
        "The final few charactors in the website \"?p=xxxx\" seems not affecting the website retur"
      ]
    },
    {
      "cell_type": "markdown",
      "metadata": {
        "id": "yJ6U4Viy-b7T"
      },
      "source": [
        "# Section 2\n"
      ]
    },
    {
      "cell_type": "markdown",
      "metadata": {
        "id": "wpNwodS4-fBm"
      },
      "source": [
        "To manuually calculate income tax\n",
        "\n",
        "https://finance.yahoo.com/quote/NAB.AX/profile?p=NAB.AX\n",
        "\n",
        "```\n",
        "Name\tTitle\tPay\tExercised\tYear Born\n",
        "Mr. Ross Maxwell McEwan CBE, B.B.S.\tGroup CEO, MD & Director\t2.54M\tN/A\t1957\n",
        "Mr. Gary Andrew Lennon BEC, F.C.A., BEc (Hons), FCA\tGroup Chief Financial Officer\t1.13M\tN/A\tN/A\n",
        "Mr. Patrick F. Wright\tGroup Exec. of Technology & Enterprise Operations\t1.72M\tN/A\t1967\n",
        "Ms. Sharon J. Cook\tGroup Exec. of Legal & Commercial Services\t912.98k\tN/A\tN/A\n",
        "Ms. Susan Ferrier\tGroup Exec. of People & Culture\t929.27k\tN/A\tN/A\n",
        "Ms. Angela Mentis B.Bus\tGroup Chief Digital, Data & Analytics Officer\t1.62M\tN/A\tN/A\n",
        "Mr. Shaun Dooley\tChief Risk Officer\t1.05M\tN/A\tN/A\n",
        "Mr. Andrew Irvine\tChief Exec. of Bus. Private Banking Division\t333.27k\tN/A\tN/A\n",
        "Mr. Lesile D. Matheson\tGroup Chief Operating Officer\tN/A\tN/A\t1960\n",
        "Ms. Sally Mihell\tHead of Investor Relations\tN/A\tN/A\tN/A\n",
        "``` \n",
        "\n",
        "Key Executives\n",
        "Name\tTitle\tPay\tExercised\tYear Born\n",
        "\n",
        "Mr. Ross Maxwell McEwan CBE, B.B.S.\tGroup CEO, MD & Director\t2.54M\tN/A\t1957\n"
      ]
    },
    {
      "cell_type": "markdown",
      "metadata": {
        "id": "1cVzzDJaA024"
      },
      "source": [
        "copy the income tax function here, please\n",
        "```\n",
        "def tax_cal(annualincome):\n",
        "  if annualincome <=18200:\n",
        "    tax_payable = 0\n",
        "  elif annualincome <=45000:\n",
        "    tax_payable = ( annualincome - 18200 ) * 0.19 \n",
        "  elif annualincome <=120000:\n",
        "    tax_payable = ( annualincome - 45000 ) * 0.325 + 5092\n",
        "  elif annualincome <=180000:\n",
        "    tax_payable = ( annualincome - 120000 ) * 0.37 + 29467\n",
        "  else:\n",
        "    tax_payable = ( annualincome - 180000 ) * 0.45 + 51667\n",
        "  return tax_payable\n",
        "```"
      ]
    },
    {
      "cell_type": "markdown",
      "metadata": {
        "id": "WOQ4ujHtDBPw"
      },
      "source": [
        "let us go to next step"
      ]
    },
    {
      "cell_type": "markdown",
      "metadata": {
        "id": "0viE38JyDJTo"
      },
      "source": [
        ""
      ]
    },
    {
      "cell_type": "markdown",
      "metadata": {
        "id": "zf5DdhGrFEI4"
      },
      "source": [
        "# intial algorithm\n",
        "user input ticker symbol\n"
      ]
    },
    {
      "cell_type": "code",
      "metadata": {
        "colab": {
          "base_uri": "https://localhost:8080/"
        },
        "id": "KuUPmlvOFQdT",
        "outputId": "828dfc33-7a9b-4138-80f1-bb9f9079fb83"
      },
      "source": [
        "# user input ticker symbol\n",
        "ticker_symbol = input (\"Please input  the ticker symbol / stock code: \")\n",
        "print(ticker_symbol)"
      ],
      "execution_count": 1,
      "outputs": [
        {
          "output_type": "stream",
          "name": "stdout",
          "text": [
            "Please input  the ticker symbol / stock code: nab.ax\n",
            "nab.ax\n"
          ]
        }
      ]
    },
    {
      "cell_type": "code",
      "metadata": {
        "colab": {
          "base_uri": "https://localhost:8080/",
          "height": 34
        },
        "id": "aCIU0j7uFv4U",
        "outputId": "4a099bcb-9875-4a17-d701-529d950f1fc3"
      },
      "source": [
        "# user tikcer to get profile page\n",
        "\n",
        "example_url = 'https://finance.yahoo.com/quote/{}/profile?p={}'\n",
        "example_url.format (ticker_symbol,\"whatever\")\n"
      ],
      "execution_count": 11,
      "outputs": [
        {
          "output_type": "execute_result",
          "data": {
            "application/vnd.google.colaboratory.intrinsic+json": {
              "type": "string"
            },
            "text/plain": [
              "'https://finance.yahoo.com/quote/nab.ax/profile?p=whatever'"
            ]
          },
          "metadata": {},
          "execution_count": 11
        }
      ]
    },
    {
      "cell_type": "code",
      "metadata": {
        "id": "Rwqshtn5G94V"
      },
      "source": [
        "def build_url():\n",
        "  # user input ticker symbol\n",
        "  ticker_symbol = input (\"Please input  the ticker symbol / stock code: \")\n",
        "  # print(ticker_symbol)\n",
        "  # user tikcer to get profile page\n",
        "  example_url = 'https://finance.yahoo.com/quote/{}/profile?p={}'\n",
        "  result = example_url.format (ticker_symbol,ticker_symbol)\n",
        "  return result"
      ],
      "execution_count": 12,
      "outputs": []
    },
    {
      "cell_type": "code",
      "metadata": {
        "colab": {
          "base_uri": "https://localhost:8080/"
        },
        "id": "CxUL8ZTfHR7c",
        "outputId": "e3c1d6bb-d794-48d3-c0a5-77109e51e874"
      },
      "source": [
        "url = build_url()\n",
        "print(url)\n"
      ],
      "execution_count": 14,
      "outputs": [
        {
          "output_type": "stream",
          "name": "stdout",
          "text": [
            "Please input  the ticker symbol / stock code: nab.ax\n",
            "https://finance.yahoo.com/quote/nab.ax/profile?p=nab.ax\n"
          ]
        }
      ]
    },
    {
      "cell_type": "markdown",
      "metadata": {
        "id": "_ei-Fw1PIMv6"
      },
      "source": [
        "# HTML source code"
      ]
    },
    {
      "cell_type": "markdown",
      "metadata": {
        "id": "vT0QUUACIR5j"
      },
      "source": [
        ""
      ]
    }
  ]
}