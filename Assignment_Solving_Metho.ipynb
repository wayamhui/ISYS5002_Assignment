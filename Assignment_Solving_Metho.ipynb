{
  "nbformat": 4,
  "nbformat_minor": 0,
  "metadata": {
    "colab": {
      "name": "Assignment_Solving_Metho.ipynb",
      "provenance": [],
      "authorship_tag": "ABX9TyNFEzr5mVOOlpoQqEUH7PMD",
      "include_colab_link": true
    },
    "kernelspec": {
      "name": "python3",
      "display_name": "Python 3"
    },
    "language_info": {
      "name": "python"
    }
  },
  "cells": [
    {
      "cell_type": "markdown",
      "metadata": {
        "id": "view-in-github",
        "colab_type": "text"
      },
      "source": [
        "<a href=\"https://colab.research.google.com/github/wayamhui/ISYS5002_Assignment/blob/main/Assignment_Solving_Metho.ipynb\" target=\"_parent\"><img src=\"https://colab.research.google.com/assets/colab-badge.svg\" alt=\"Open In Colab\"/></a>"
      ]
    },
    {
      "cell_type": "markdown",
      "metadata": {
        "id": "dh2_pybG580x"
      },
      "source": [
        "# Introduction Section"
      ]
    },
    {
      "cell_type": "markdown",
      "metadata": {
        "id": "U2k7OMhX6DC9"
      },
      "source": [
        "Problem Solving Methodology\n"
      ]
    },
    {
      "cell_type": "markdown",
      "metadata": {
        "id": "5eu5ESw95zaF"
      },
      "source": [
        "\n",
        "1. State the problem clearly\n",
        "\n",
        "2. Describe the input and output\n",
        "\n",
        "3. Work a simple example by hand\n",
        "\n",
        "4. Develop an algorithm (and convert to Python)\n",
        "\n",
        "5. Test solution with a variety of data\n",
        "\n",
        "6. Finalize the formatted Python notebook\n",
        "\n",
        "\n",
        "\n"
      ]
    },
    {
      "cell_type": "markdown",
      "metadata": {
        "id": "hBCPpOUB6uV9"
      },
      "source": [
        "Program need: write a notebook that prompts the user for a company's stock market ticker symbol. Then for each\n",
        "executive calculate the expected income tax based on the ATO tax tables. \n",
        "\n",
        "Input: ticker symbol \n",
        "(Is this meaning stock code?)\n",
        "\n",
        "Output: income tax of each executive\n",
        "\n",
        "Processing\n",
        "\n",
        "ToDo: scrapping to find the website content is the most difficult part, how to skip HTML/table format/title information and \"jump\" to the interested content of salary info of key executives\n",
        "\n"
      ]
    },
    {
      "cell_type": "markdown",
      "metadata": {
        "id": "JR8WoMKo7mNF"
      },
      "source": [
        "What data to save?\n",
        "\n",
        "To explore web\n",
        "\n",
        "1. Search for Coles\n",
        "https://finance.yahoo.com/quote/col.ax/?p=col.ax\n",
        "\n",
        "2. Search for NAB\n",
        "https://finance.yahoo.com/quote/nab.ax/?p=nab.ax"
      ]
    },
    {
      "cell_type": "markdown",
      "metadata": {
        "id": "xZBh0NsM7keW"
      },
      "source": [
        "Shortcut the URL\n",
        "\n",
        "The final few charactors in the website \"?p=xxxx\" seems not affecting the website retur"
      ]
    },
    {
      "cell_type": "markdown",
      "metadata": {
        "id": "yJ6U4Viy-b7T"
      },
      "source": [
        "# Section 1 State the problem clearly\n"
      ]
    },
    {
      "cell_type": "markdown",
      "metadata": {
        "id": "SB7COCxNByv8"
      },
      "source": [
        "Program need: write a notebook that prompts the user for a company's stock market ticker symbol. Then for each executive calculate the expected income tax based on the ATO tax tables."
      ]
    },
    {
      "cell_type": "markdown",
      "metadata": {
        "id": "3anxXzu7B7xK"
      },
      "source": [
        "# Section 2 Describe the input and output\n"
      ]
    },
    {
      "cell_type": "markdown",
      "metadata": {
        "id": "omnJT4LICLln"
      },
      "source": [
        "Input 1: ticker symbol (Is this meaning stock code? Yes)\n",
        "\n",
        "Input 2: foreign exchange rate as the pay might not be in AUD\n",
        "\n",
        "Output: income tax of each executive"
      ]
    },
    {
      "cell_type": "markdown",
      "metadata": {
        "id": "LvOJEotWCeMb"
      },
      "source": [
        "# Work a simple example by hand"
      ]
    },
    {
      "cell_type": "markdown",
      "metadata": {
        "id": "wpNwodS4-fBm"
      },
      "source": [
        "To manually calculate income tax\n",
        "\n",
        "https://finance.yahoo.com/quote/NAB.AX/profile?p=NAB.AX\n",
        "\n",
        "```\n",
        "Name\tTitle\tPay\tExercised\tYear Born\n",
        "Mr. Ross Maxwell McEwan CBE, B.B.S.\tGroup CEO, MD & Director\t2.54M\tN/A\t1957\n",
        "Mr. Gary Andrew Lennon BEC, F.C.A., BEc (Hons), FCA\tGroup Chief Financial Officer\t1.13M\tN/A\tN/A\n",
        "Mr. Patrick F. Wright\tGroup Exec. of Technology & Enterprise Operations\t1.72M\tN/A\t1967\n",
        "Ms. Sharon J. Cook\tGroup Exec. of Legal & Commercial Services\t912.98k\tN/A\tN/A\n",
        "Ms. Susan Ferrier\tGroup Exec. of People & Culture\t929.27k\tN/A\tN/A\n",
        "Ms. Angela Mentis B.Bus\tGroup Chief Digital, Data & Analytics Officer\t1.62M\tN/A\tN/A\n",
        "Mr. Shaun Dooley\tChief Risk Officer\t1.05M\tN/A\tN/A\n",
        "Mr. Andrew Irvine\tChief Exec. of Bus. Private Banking Division\t333.27k\tN/A\tN/A\n",
        "Mr. Lesile D. Matheson\tGroup Chief Operating Officer\tN/A\tN/A\t1960\n",
        "Ms. Sally Mihell\tHead of Investor Relations\tN/A\tN/A\tN/A\n",
        "``` \n",
        "\n",
        "Key Executives\n",
        "Name\tTitle\tPay\tExercised\tYear Born\n",
        "\n",
        "Mr. Ross Maxwell McEwan CBE, B.B.S.\tGroup CEO, MD & Director\t2.54M\tN/A\t1957\n"
      ]
    },
    {
      "cell_type": "markdown",
      "metadata": {
        "id": "1cVzzDJaA024"
      },
      "source": [
        "copy the income tax function here, please\n",
        "```\n",
        "def tax_cal(annualincome):\n",
        "  if annualincome <=18200:\n",
        "    tax_payable = 0\n",
        "  elif annualincome <=45000:\n",
        "    tax_payable = ( annualincome - 18200 ) * 0.19 \n",
        "  elif annualincome <=120000:\n",
        "    tax_payable = ( annualincome - 45000 ) * 0.325 + 5092\n",
        "  elif annualincome <=180000:\n",
        "    tax_payable = ( annualincome - 120000 ) * 0.37 + 29467\n",
        "  else:\n",
        "    tax_payable = ( annualincome - 180000 ) * 0.45 + 51667\n",
        "  return tax_payable\n",
        "```"
      ]
    },
    {
      "cell_type": "markdown",
      "metadata": {
        "id": "E8yqHg7dCm6_"
      },
      "source": [
        "2.54m will generate\n",
        "\n",
        "2540000 - (180000)* 0.45 + 51667 = 1113667\n",
        "\n",
        "Most difficulat parts are:\n",
        "1. locate the table in the HTML source code and extract the target profile table contents\n",
        "2. Convert the \"M\" and \"k\" to 1000000 and 1000 respectively to translate the pay to correct amount."
      ]
    },
    {
      "cell_type": "code",
      "metadata": {
        "colab": {
          "base_uri": "https://localhost:8080/"
        },
        "id": "HdQBnoDUDB0f",
        "outputId": "8dca2a20-357f-4eab-cbe3-6be9749bd6da"
      },
      "source": [
        "a = ( 7430000 - 180000)* 0.45 + 51667 \n",
        "print (a)\n",
        "a = ( 2540000 - 180000)* 0.45 + 51667 \n",
        "a"
      ],
      "execution_count": 1,
      "outputs": [
        {
          "output_type": "stream",
          "name": "stdout",
          "text": [
            "3314167.0\n"
          ]
        },
        {
          "output_type": "execute_result",
          "data": {
            "text/plain": [
              "1113667.0"
            ]
          },
          "metadata": {},
          "execution_count": 1
        }
      ]
    },
    {
      "cell_type": "markdown",
      "metadata": {
        "id": "0viE38JyDJTo"
      },
      "source": [
        "copy the while...try...except here:\n",
        "``` \n",
        "  valid = False\n",
        "  while not valid:\n",
        "    try:\n",
        "      original_price = int(input(\"Pease enter the original price: \"))\n",
        "      valid = True\n",
        "    except ValueError:\n",
        "      print ('please input integer')\n",
        "```\n",
        "\n"
      ]
    },
    {
      "cell_type": "markdown",
      "metadata": {
        "id": "dkq5NuDOOkip"
      },
      "source": [
        "test write csv function\n",
        "```\n",
        "lines = 'tax'\n",
        "with open('/content/test.csv','w') as f:\n",
        "  f.writelines(lines)\n",
        "```"
      ]
    },
    {
      "cell_type": "code",
      "metadata": {
        "id": "zj8N1jx6NbzX"
      },
      "source": [
        ""
      ],
      "execution_count": 1,
      "outputs": []
    },
    {
      "cell_type": "markdown",
      "metadata": {
        "id": "zf5DdhGrFEI4"
      },
      "source": [
        "# intial algorithm\n",
        "user input ticker symbol\n"
      ]
    },
    {
      "cell_type": "code",
      "metadata": {
        "colab": {
          "base_uri": "https://localhost:8080/"
        },
        "id": "KuUPmlvOFQdT",
        "outputId": "53b51414-0599-4e20-cbc8-c46a14e8b70a"
      },
      "source": [
        "# user input ticker symbol\n",
        "ticker_symbol = input (\"Please input  the ticker symbol / stock code: \")\n",
        "# print(ticker_symbol)"
      ],
      "execution_count": 2,
      "outputs": [
        {
          "name": "stdout",
          "output_type": "stream",
          "text": [
            "Please input  the ticker symbol / stock code: goog\n"
          ]
        }
      ]
    },
    {
      "cell_type": "code",
      "metadata": {
        "colab": {
          "base_uri": "https://localhost:8080/",
          "height": 35
        },
        "id": "aCIU0j7uFv4U",
        "outputId": "509c1ad5-575e-4336-bde7-5d5afa492424"
      },
      "source": [
        "# user tikcer to get profile page\n",
        "\n",
        "example_url = 'https://finance.yahoo.com/quote/{}/profile?p={}'\n",
        "example_url.format (ticker_symbol,ticker_symbol)\n"
      ],
      "execution_count": 3,
      "outputs": [
        {
          "output_type": "execute_result",
          "data": {
            "application/vnd.google.colaboratory.intrinsic+json": {
              "type": "string"
            },
            "text/plain": [
              "'https://finance.yahoo.com/quote/goog/profile?p=goog'"
            ]
          },
          "metadata": {},
          "execution_count": 3
        }
      ]
    },
    {
      "cell_type": "code",
      "metadata": {
        "id": "Rwqshtn5G94V"
      },
      "source": [
        "def build_url():\n",
        "  # user input ticker symbol\n",
        "  ticker_symbol = input (\"Please input  the ticker symbol / stock code: \")\n",
        "  # print(ticker_symbol)\n",
        "  # user tikcer to get profile page\n",
        "  example_url = 'https://finance.yahoo.com/quote/{}/profile?p={}'\n",
        "  result = example_url.format (ticker_symbol,ticker_symbol)\n",
        "  return result"
      ],
      "execution_count": 4,
      "outputs": []
    },
    {
      "cell_type": "code",
      "metadata": {
        "colab": {
          "base_uri": "https://localhost:8080/"
        },
        "id": "CxUL8ZTfHR7c",
        "outputId": "ce89fbe3-ba49-4826-ef88-ada49256c585"
      },
      "source": [
        "url = build_url()\n",
        "print(url)\n"
      ],
      "execution_count": 5,
      "outputs": [
        {
          "output_type": "stream",
          "name": "stdout",
          "text": [
            "Please input  the ticker symbol / stock code: goog\n",
            "https://finance.yahoo.com/quote/goog/profile?p=goog\n"
          ]
        }
      ]
    },
    {
      "cell_type": "markdown",
      "metadata": {
        "id": "_ei-Fw1PIMv6"
      },
      "source": [
        "# HTML source code"
      ]
    },
    {
      "cell_type": "markdown",
      "metadata": {
        "id": "d2VU8y-XJMRl"
      },
      "source": [
        ""
      ]
    },
    {
      "cell_type": "code",
      "metadata": {
        "colab": {
          "base_uri": "https://localhost:8080/"
        },
        "id": "xQa916JoJTLh",
        "outputId": "3a27d2b2-9934-48f1-d3bc-8e8240dcc773"
      },
      "source": [
        "!pip install kora -q\n",
        "'''load packages'''\n",
        "import requests\n",
        "from bs4 import BeautifulSoup\n",
        "from kora.selenium import wd\n",
        "import pandas as pd"
      ],
      "execution_count": 6,
      "outputs": [
        {
          "output_type": "stream",
          "name": "stdout",
          "text": [
            "\u001b[K     |████████████████████████████████| 57 kB 5.2 MB/s \n",
            "\u001b[K     |████████████████████████████████| 56 kB 4.2 MB/s \n",
            "\u001b[?25h"
          ]
        }
      ]
    },
    {
      "cell_type": "code",
      "metadata": {
        "id": "TxEUUg3xJvHD"
      },
      "source": [
        "# get the page source HTML\n",
        "wd.get(url)\n",
        "soup = BeautifulSoup(wd.page_source, \"html.parser\")\n"
      ],
      "execution_count": null,
      "outputs": []
    },
    {
      "cell_type": "markdown",
      "metadata": {
        "id": "p4VbN28YMmgm"
      },
      "source": [
        "# Table screening"
      ]
    },
    {
      "cell_type": "code",
      "metadata": {
        "colab": {
          "base_uri": "https://localhost:8080/"
        },
        "id": "NkKQuib-MuZV",
        "outputId": "64da69f4-6a82-43df-dee4-a2b42d6b4c42"
      },
      "source": [
        "table = soup.find('table')\n",
        "body = soup.find_all('tbody')\n",
        "\n",
        "print (body)\n",
        "print (len(body))\n",
        "\n",
        "body = soup.find('tbody')\n",
        "\n",
        "print (body)\n",
        "print (len(body))\n",
        "\n",
        "rows = body.find_all('tr')\n",
        "print (len(rows))\n",
        "\n",
        "row1 = rows[0]\n",
        "cells = row1.find_all('td')\n",
        "print (len(cells))\n",
        "\n",
        "\n",
        "name = cells[0]\n",
        "title = cells[1]\n",
        "pay = cells[2]\n",
        "\n",
        "for item in [0,1,2,3,4]:\n",
        "  print (cells[item].text)\n"
      ],
      "execution_count": 8,
      "outputs": [
        {
          "output_type": "stream",
          "name": "stdout",
          "text": [
            "[<tbody data-reactid=\"47\"><tr class=\"C($primaryColor) BdB Bdc($seperatorColor) H(36px)\" data-reactid=\"48\"><td class=\"Ta(start)\" data-reactid=\"49\"><span class=\"\" data-reactid=\"50\"><!-- react-text: 51 -->Mr. Sundar  Pichai<!-- /react-text --></span></td><td class=\"Ta(start) W(45%)\" data-reactid=\"52\"><span class=\"\" data-reactid=\"53\"><!-- react-text: 54 -->CEO &amp; Director<!-- /react-text --></span></td><td class=\"Ta(end)\" data-reactid=\"55\"><span class=\"\" data-reactid=\"56\"><!-- react-text: 57 -->7.43M<!-- /react-text --></span></td><td class=\"Ta(end)\" data-reactid=\"58\"><span class=\"\" data-reactid=\"59\"><!-- react-text: 60 -->3.6M<!-- /react-text --></span></td><td class=\"Ta(end)\" data-reactid=\"61\"><span class=\"\" data-reactid=\"62\"><!-- react-text: 63 -->1973<!-- /react-text --></span></td></tr><tr class=\"C($primaryColor) BdB Bdc($seperatorColor) H(36px)\" data-reactid=\"64\"><td class=\"Ta(start)\" data-reactid=\"65\"><span class=\"\" data-reactid=\"66\"><!-- react-text: 67 -->Mr. Lawrence Edward Page<!-- /react-text --></span></td><td class=\"Ta(start) W(45%)\" data-reactid=\"68\"><span class=\"\" data-reactid=\"69\"><!-- react-text: 70 -->Co-Founder &amp; Director<!-- /react-text --></span></td><td class=\"Ta(end)\" data-reactid=\"71\"><span class=\"\" data-reactid=\"72\"><!-- react-text: 73 -->1<!-- /react-text --></span></td><td class=\"Ta(end)\" data-reactid=\"74\"><span class=\"\" data-reactid=\"75\"><span data-reactid=\"76\">N/A</span></span></td><td class=\"Ta(end)\" data-reactid=\"77\"><span class=\"\" data-reactid=\"78\"><!-- react-text: 79 -->1973<!-- /react-text --></span></td></tr><tr class=\"C($primaryColor) BdB Bdc($seperatorColor) H(36px)\" data-reactid=\"80\"><td class=\"Ta(start)\" data-reactid=\"81\"><span class=\"\" data-reactid=\"82\"><!-- react-text: 83 -->Mr. Sergey  Brin<!-- /react-text --></span></td><td class=\"Ta(start) W(45%)\" data-reactid=\"84\"><span class=\"\" data-reactid=\"85\"><!-- react-text: 86 -->Co-Founder &amp; Director<!-- /react-text --></span></td><td class=\"Ta(end)\" data-reactid=\"87\"><span class=\"\" data-reactid=\"88\"><!-- react-text: 89 -->1<!-- /react-text --></span></td><td class=\"Ta(end)\" data-reactid=\"90\"><span class=\"\" data-reactid=\"91\"><span data-reactid=\"92\">N/A</span></span></td><td class=\"Ta(end)\" data-reactid=\"93\"><span class=\"\" data-reactid=\"94\"><!-- react-text: 95 -->1974<!-- /react-text --></span></td></tr><tr class=\"C($primaryColor) BdB Bdc($seperatorColor) H(36px)\" data-reactid=\"96\"><td class=\"Ta(start)\" data-reactid=\"97\"><span class=\"\" data-reactid=\"98\"><!-- react-text: 99 -->Ms. Ruth M. Porat<!-- /react-text --></span></td><td class=\"Ta(start) W(45%)\" data-reactid=\"100\"><span class=\"\" data-reactid=\"101\"><!-- react-text: 102 -->Sr. VP &amp; CFO<!-- /react-text --></span></td><td class=\"Ta(end)\" data-reactid=\"103\"><span class=\"\" data-reactid=\"104\"><!-- react-text: 105 -->672.77k<!-- /react-text --></span></td><td class=\"Ta(end)\" data-reactid=\"106\"><span class=\"\" data-reactid=\"107\"><span data-reactid=\"108\">N/A</span></span></td><td class=\"Ta(end)\" data-reactid=\"109\"><span class=\"\" data-reactid=\"110\"><!-- react-text: 111 -->1958<!-- /react-text --></span></td></tr><tr class=\"C($primaryColor) BdB Bdc($seperatorColor) H(36px)\" data-reactid=\"112\"><td class=\"Ta(start)\" data-reactid=\"113\"><span class=\"\" data-reactid=\"114\"><!-- react-text: 115 -->Dr. Prabhakar  Raghavan<!-- /react-text --></span></td><td class=\"Ta(start) W(45%)\" data-reactid=\"116\"><span class=\"\" data-reactid=\"117\"><!-- react-text: 118 -->Sr. VP of Google<!-- /react-text --></span></td><td class=\"Ta(end)\" data-reactid=\"119\"><span class=\"\" data-reactid=\"120\"><!-- react-text: 121 -->664.75k<!-- /react-text --></span></td><td class=\"Ta(end)\" data-reactid=\"122\"><span class=\"\" data-reactid=\"123\"><span data-reactid=\"124\">N/A</span></span></td><td class=\"Ta(end)\" data-reactid=\"125\"><span class=\"\" data-reactid=\"126\"><!-- react-text: 127 -->1961<!-- /react-text --></span></td></tr><tr class=\"C($primaryColor) BdB Bdc($seperatorColor) H(36px)\" data-reactid=\"128\"><td class=\"Ta(start)\" data-reactid=\"129\"><span class=\"\" data-reactid=\"130\"><!-- react-text: 131 -->Mr. Philipp  Schindler<!-- /react-text --></span></td><td class=\"Ta(start) W(45%)\" data-reactid=\"132\"><span class=\"\" data-reactid=\"133\"><!-- react-text: 134 -->Sr. VP &amp; Chief Bus. Officer of Google<!-- /react-text --></span></td><td class=\"Ta(end)\" data-reactid=\"135\"><span class=\"\" data-reactid=\"136\"><!-- react-text: 137 -->881.82k<!-- /react-text --></span></td><td class=\"Ta(end)\" data-reactid=\"138\"><span class=\"\" data-reactid=\"139\"><span data-reactid=\"140\">N/A</span></span></td><td class=\"Ta(end)\" data-reactid=\"141\"><span class=\"\" data-reactid=\"142\"><span data-reactid=\"143\">N/A</span></span></td></tr><tr class=\"C($primaryColor) BdB Bdc($seperatorColor) H(36px)\" data-reactid=\"144\"><td class=\"Ta(start)\" data-reactid=\"145\"><span class=\"\" data-reactid=\"146\"><!-- react-text: 147 -->Mr. Kent  Walker<!-- /react-text --></span></td><td class=\"Ta(start) W(45%)\" data-reactid=\"148\"><span class=\"\" data-reactid=\"149\"><!-- react-text: 150 -->Corp. Sec.<!-- /react-text --></span></td><td class=\"Ta(end)\" data-reactid=\"151\"><span class=\"\" data-reactid=\"152\"><!-- react-text: 153 -->664.75k<!-- /react-text --></span></td><td class=\"Ta(end)\" data-reactid=\"154\"><span class=\"\" data-reactid=\"155\"><span data-reactid=\"156\">N/A</span></span></td><td class=\"Ta(end)\" data-reactid=\"157\"><span class=\"\" data-reactid=\"158\"><!-- react-text: 159 -->1961<!-- /react-text --></span></td></tr><tr class=\"C($primaryColor) BdB Bdc($seperatorColor) H(36px)\" data-reactid=\"160\"><td class=\"Ta(start)\" data-reactid=\"161\"><span class=\"\" data-reactid=\"162\"><!-- react-text: 163 -->Ms. Amie Thuener O'Toole<!-- /react-text --></span></td><td class=\"Ta(start) W(45%)\" data-reactid=\"164\"><span class=\"\" data-reactid=\"165\"><!-- react-text: 166 -->Chief Accounting Officer &amp; VP<!-- /react-text --></span></td><td class=\"Ta(end)\" data-reactid=\"167\"><span class=\"\" data-reactid=\"168\"><span data-reactid=\"169\">N/A</span></span></td><td class=\"Ta(end)\" data-reactid=\"170\"><span class=\"\" data-reactid=\"171\"><span data-reactid=\"172\">N/A</span></span></td><td class=\"Ta(end)\" data-reactid=\"173\"><span class=\"\" data-reactid=\"174\"><!-- react-text: 175 -->1976<!-- /react-text --></span></td></tr><tr class=\"C($primaryColor) BdB Bdc($seperatorColor) H(36px)\" data-reactid=\"176\"><td class=\"Ta(start)\" data-reactid=\"177\"><span class=\"\" data-reactid=\"178\"><!-- react-text: 179 -->Ms. Ellen  West<!-- /react-text --></span></td><td class=\"Ta(start) W(45%)\" data-reactid=\"180\"><span class=\"\" data-reactid=\"181\"><!-- react-text: 182 -->VP of Investor Relations<!-- /react-text --></span></td><td class=\"Ta(end)\" data-reactid=\"183\"><span class=\"\" data-reactid=\"184\"><span data-reactid=\"185\">N/A</span></span></td><td class=\"Ta(end)\" data-reactid=\"186\"><span class=\"\" data-reactid=\"187\"><span data-reactid=\"188\">N/A</span></span></td><td class=\"Ta(end)\" data-reactid=\"189\"><span class=\"\" data-reactid=\"190\"><span data-reactid=\"191\">N/A</span></span></td></tr><tr class=\"C($primaryColor) BdB Bdc($seperatorColor) H(36px)\" data-reactid=\"192\"><td class=\"Ta(start)\" data-reactid=\"193\"><span class=\"\" data-reactid=\"194\"><!-- react-text: 195 -->Ms. Fiona Clare Cicconi<!-- /react-text --></span></td><td class=\"Ta(start) W(45%)\" data-reactid=\"196\"><span class=\"\" data-reactid=\"197\"><!-- react-text: 198 -->Chief People Officer<!-- /react-text --></span></td><td class=\"Ta(end)\" data-reactid=\"199\"><span class=\"\" data-reactid=\"200\"><span data-reactid=\"201\">N/A</span></span></td><td class=\"Ta(end)\" data-reactid=\"202\"><span class=\"\" data-reactid=\"203\"><span data-reactid=\"204\">N/A</span></span></td><td class=\"Ta(end)\" data-reactid=\"205\"><span class=\"\" data-reactid=\"206\"><!-- react-text: 207 -->1966<!-- /react-text --></span></td></tr></tbody>]\n",
            "1\n",
            "<tbody data-reactid=\"47\"><tr class=\"C($primaryColor) BdB Bdc($seperatorColor) H(36px)\" data-reactid=\"48\"><td class=\"Ta(start)\" data-reactid=\"49\"><span class=\"\" data-reactid=\"50\"><!-- react-text: 51 -->Mr. Sundar  Pichai<!-- /react-text --></span></td><td class=\"Ta(start) W(45%)\" data-reactid=\"52\"><span class=\"\" data-reactid=\"53\"><!-- react-text: 54 -->CEO &amp; Director<!-- /react-text --></span></td><td class=\"Ta(end)\" data-reactid=\"55\"><span class=\"\" data-reactid=\"56\"><!-- react-text: 57 -->7.43M<!-- /react-text --></span></td><td class=\"Ta(end)\" data-reactid=\"58\"><span class=\"\" data-reactid=\"59\"><!-- react-text: 60 -->3.6M<!-- /react-text --></span></td><td class=\"Ta(end)\" data-reactid=\"61\"><span class=\"\" data-reactid=\"62\"><!-- react-text: 63 -->1973<!-- /react-text --></span></td></tr><tr class=\"C($primaryColor) BdB Bdc($seperatorColor) H(36px)\" data-reactid=\"64\"><td class=\"Ta(start)\" data-reactid=\"65\"><span class=\"\" data-reactid=\"66\"><!-- react-text: 67 -->Mr. Lawrence Edward Page<!-- /react-text --></span></td><td class=\"Ta(start) W(45%)\" data-reactid=\"68\"><span class=\"\" data-reactid=\"69\"><!-- react-text: 70 -->Co-Founder &amp; Director<!-- /react-text --></span></td><td class=\"Ta(end)\" data-reactid=\"71\"><span class=\"\" data-reactid=\"72\"><!-- react-text: 73 -->1<!-- /react-text --></span></td><td class=\"Ta(end)\" data-reactid=\"74\"><span class=\"\" data-reactid=\"75\"><span data-reactid=\"76\">N/A</span></span></td><td class=\"Ta(end)\" data-reactid=\"77\"><span class=\"\" data-reactid=\"78\"><!-- react-text: 79 -->1973<!-- /react-text --></span></td></tr><tr class=\"C($primaryColor) BdB Bdc($seperatorColor) H(36px)\" data-reactid=\"80\"><td class=\"Ta(start)\" data-reactid=\"81\"><span class=\"\" data-reactid=\"82\"><!-- react-text: 83 -->Mr. Sergey  Brin<!-- /react-text --></span></td><td class=\"Ta(start) W(45%)\" data-reactid=\"84\"><span class=\"\" data-reactid=\"85\"><!-- react-text: 86 -->Co-Founder &amp; Director<!-- /react-text --></span></td><td class=\"Ta(end)\" data-reactid=\"87\"><span class=\"\" data-reactid=\"88\"><!-- react-text: 89 -->1<!-- /react-text --></span></td><td class=\"Ta(end)\" data-reactid=\"90\"><span class=\"\" data-reactid=\"91\"><span data-reactid=\"92\">N/A</span></span></td><td class=\"Ta(end)\" data-reactid=\"93\"><span class=\"\" data-reactid=\"94\"><!-- react-text: 95 -->1974<!-- /react-text --></span></td></tr><tr class=\"C($primaryColor) BdB Bdc($seperatorColor) H(36px)\" data-reactid=\"96\"><td class=\"Ta(start)\" data-reactid=\"97\"><span class=\"\" data-reactid=\"98\"><!-- react-text: 99 -->Ms. Ruth M. Porat<!-- /react-text --></span></td><td class=\"Ta(start) W(45%)\" data-reactid=\"100\"><span class=\"\" data-reactid=\"101\"><!-- react-text: 102 -->Sr. VP &amp; CFO<!-- /react-text --></span></td><td class=\"Ta(end)\" data-reactid=\"103\"><span class=\"\" data-reactid=\"104\"><!-- react-text: 105 -->672.77k<!-- /react-text --></span></td><td class=\"Ta(end)\" data-reactid=\"106\"><span class=\"\" data-reactid=\"107\"><span data-reactid=\"108\">N/A</span></span></td><td class=\"Ta(end)\" data-reactid=\"109\"><span class=\"\" data-reactid=\"110\"><!-- react-text: 111 -->1958<!-- /react-text --></span></td></tr><tr class=\"C($primaryColor) BdB Bdc($seperatorColor) H(36px)\" data-reactid=\"112\"><td class=\"Ta(start)\" data-reactid=\"113\"><span class=\"\" data-reactid=\"114\"><!-- react-text: 115 -->Dr. Prabhakar  Raghavan<!-- /react-text --></span></td><td class=\"Ta(start) W(45%)\" data-reactid=\"116\"><span class=\"\" data-reactid=\"117\"><!-- react-text: 118 -->Sr. VP of Google<!-- /react-text --></span></td><td class=\"Ta(end)\" data-reactid=\"119\"><span class=\"\" data-reactid=\"120\"><!-- react-text: 121 -->664.75k<!-- /react-text --></span></td><td class=\"Ta(end)\" data-reactid=\"122\"><span class=\"\" data-reactid=\"123\"><span data-reactid=\"124\">N/A</span></span></td><td class=\"Ta(end)\" data-reactid=\"125\"><span class=\"\" data-reactid=\"126\"><!-- react-text: 127 -->1961<!-- /react-text --></span></td></tr><tr class=\"C($primaryColor) BdB Bdc($seperatorColor) H(36px)\" data-reactid=\"128\"><td class=\"Ta(start)\" data-reactid=\"129\"><span class=\"\" data-reactid=\"130\"><!-- react-text: 131 -->Mr. Philipp  Schindler<!-- /react-text --></span></td><td class=\"Ta(start) W(45%)\" data-reactid=\"132\"><span class=\"\" data-reactid=\"133\"><!-- react-text: 134 -->Sr. VP &amp; Chief Bus. Officer of Google<!-- /react-text --></span></td><td class=\"Ta(end)\" data-reactid=\"135\"><span class=\"\" data-reactid=\"136\"><!-- react-text: 137 -->881.82k<!-- /react-text --></span></td><td class=\"Ta(end)\" data-reactid=\"138\"><span class=\"\" data-reactid=\"139\"><span data-reactid=\"140\">N/A</span></span></td><td class=\"Ta(end)\" data-reactid=\"141\"><span class=\"\" data-reactid=\"142\"><span data-reactid=\"143\">N/A</span></span></td></tr><tr class=\"C($primaryColor) BdB Bdc($seperatorColor) H(36px)\" data-reactid=\"144\"><td class=\"Ta(start)\" data-reactid=\"145\"><span class=\"\" data-reactid=\"146\"><!-- react-text: 147 -->Mr. Kent  Walker<!-- /react-text --></span></td><td class=\"Ta(start) W(45%)\" data-reactid=\"148\"><span class=\"\" data-reactid=\"149\"><!-- react-text: 150 -->Corp. Sec.<!-- /react-text --></span></td><td class=\"Ta(end)\" data-reactid=\"151\"><span class=\"\" data-reactid=\"152\"><!-- react-text: 153 -->664.75k<!-- /react-text --></span></td><td class=\"Ta(end)\" data-reactid=\"154\"><span class=\"\" data-reactid=\"155\"><span data-reactid=\"156\">N/A</span></span></td><td class=\"Ta(end)\" data-reactid=\"157\"><span class=\"\" data-reactid=\"158\"><!-- react-text: 159 -->1961<!-- /react-text --></span></td></tr><tr class=\"C($primaryColor) BdB Bdc($seperatorColor) H(36px)\" data-reactid=\"160\"><td class=\"Ta(start)\" data-reactid=\"161\"><span class=\"\" data-reactid=\"162\"><!-- react-text: 163 -->Ms. Amie Thuener O'Toole<!-- /react-text --></span></td><td class=\"Ta(start) W(45%)\" data-reactid=\"164\"><span class=\"\" data-reactid=\"165\"><!-- react-text: 166 -->Chief Accounting Officer &amp; VP<!-- /react-text --></span></td><td class=\"Ta(end)\" data-reactid=\"167\"><span class=\"\" data-reactid=\"168\"><span data-reactid=\"169\">N/A</span></span></td><td class=\"Ta(end)\" data-reactid=\"170\"><span class=\"\" data-reactid=\"171\"><span data-reactid=\"172\">N/A</span></span></td><td class=\"Ta(end)\" data-reactid=\"173\"><span class=\"\" data-reactid=\"174\"><!-- react-text: 175 -->1976<!-- /react-text --></span></td></tr><tr class=\"C($primaryColor) BdB Bdc($seperatorColor) H(36px)\" data-reactid=\"176\"><td class=\"Ta(start)\" data-reactid=\"177\"><span class=\"\" data-reactid=\"178\"><!-- react-text: 179 -->Ms. Ellen  West<!-- /react-text --></span></td><td class=\"Ta(start) W(45%)\" data-reactid=\"180\"><span class=\"\" data-reactid=\"181\"><!-- react-text: 182 -->VP of Investor Relations<!-- /react-text --></span></td><td class=\"Ta(end)\" data-reactid=\"183\"><span class=\"\" data-reactid=\"184\"><span data-reactid=\"185\">N/A</span></span></td><td class=\"Ta(end)\" data-reactid=\"186\"><span class=\"\" data-reactid=\"187\"><span data-reactid=\"188\">N/A</span></span></td><td class=\"Ta(end)\" data-reactid=\"189\"><span class=\"\" data-reactid=\"190\"><span data-reactid=\"191\">N/A</span></span></td></tr><tr class=\"C($primaryColor) BdB Bdc($seperatorColor) H(36px)\" data-reactid=\"192\"><td class=\"Ta(start)\" data-reactid=\"193\"><span class=\"\" data-reactid=\"194\"><!-- react-text: 195 -->Ms. Fiona Clare Cicconi<!-- /react-text --></span></td><td class=\"Ta(start) W(45%)\" data-reactid=\"196\"><span class=\"\" data-reactid=\"197\"><!-- react-text: 198 -->Chief People Officer<!-- /react-text --></span></td><td class=\"Ta(end)\" data-reactid=\"199\"><span class=\"\" data-reactid=\"200\"><span data-reactid=\"201\">N/A</span></span></td><td class=\"Ta(end)\" data-reactid=\"202\"><span class=\"\" data-reactid=\"203\"><span data-reactid=\"204\">N/A</span></span></td><td class=\"Ta(end)\" data-reactid=\"205\"><span class=\"\" data-reactid=\"206\"><!-- react-text: 207 -->1966<!-- /react-text --></span></td></tr></tbody>\n",
            "10\n",
            "10\n",
            "5\n",
            "Mr. Sundar  Pichai\n",
            "CEO & Director\n",
            "7.43M\n",
            "3.6M\n",
            "1973\n"
          ]
        }
      ]
    },
    {
      "cell_type": "code",
      "metadata": {
        "colab": {
          "base_uri": "https://localhost:8080/"
        },
        "id": "5bSbt5vPRvOj",
        "outputId": "a9efd2ec-85bd-4a75-fd15-3eba47b633ed"
      },
      "source": [
        "def get3cells(row):  \n",
        "  cells = row.find_all('td')\n",
        "  # print (len(cells))\n",
        "  name = cells[0].text\n",
        "  title = cells[1].text\n",
        "  pay = cells[2].text\n",
        "  return {'name': name, 'title': title, 'pay': pay}  # using dictionary type\n",
        "\n",
        "get3cells(rows[3])"
      ],
      "execution_count": 9,
      "outputs": [
        {
          "output_type": "execute_result",
          "data": {
            "text/plain": [
              "{'name': 'Ms. Ruth M. Porat', 'pay': '672.77k', 'title': 'Sr. VP & CFO'}"
            ]
          },
          "metadata": {},
          "execution_count": 9
        }
      ]
    },
    {
      "cell_type": "code",
      "metadata": {
        "colab": {
          "base_uri": "https://localhost:8080/"
        },
        "id": "y1jjcjEoTHoa",
        "outputId": "de5c60ff-8943-44f4-8f72-bb8bb8e622eb"
      },
      "source": [
        "exec_records = []\n",
        "for row in rows:\n",
        "  result = get3cells(row)\n",
        "  exec_records.append(result)\n",
        "\n",
        "print(exec_records)"
      ],
      "execution_count": 10,
      "outputs": [
        {
          "output_type": "stream",
          "name": "stdout",
          "text": [
            "[{'name': 'Mr. Sundar  Pichai', 'title': 'CEO & Director', 'pay': '7.43M'}, {'name': 'Mr. Lawrence Edward Page', 'title': 'Co-Founder & Director', 'pay': '1'}, {'name': 'Mr. Sergey  Brin', 'title': 'Co-Founder & Director', 'pay': '1'}, {'name': 'Ms. Ruth M. Porat', 'title': 'Sr. VP & CFO', 'pay': '672.77k'}, {'name': 'Dr. Prabhakar  Raghavan', 'title': 'Sr. VP of Google', 'pay': '664.75k'}, {'name': 'Mr. Philipp  Schindler', 'title': 'Sr. VP & Chief Bus. Officer of Google', 'pay': '881.82k'}, {'name': 'Mr. Kent  Walker', 'title': 'Corp. Sec.', 'pay': '664.75k'}, {'name': \"Ms. Amie Thuener O'Toole\", 'title': 'Chief Accounting Officer & VP', 'pay': 'N/A'}, {'name': 'Ms. Ellen  West', 'title': 'VP of Investor Relations', 'pay': 'N/A'}, {'name': 'Ms. Fiona Clare Cicconi', 'title': 'Chief People Officer', 'pay': 'N/A'}]\n"
          ]
        }
      ]
    },
    {
      "cell_type": "code",
      "metadata": {
        "colab": {
          "base_uri": "https://localhost:8080/"
        },
        "id": "_pJYs8zJUdBE",
        "outputId": "1e800175-103d-49f6-ab3b-1479038b7f88"
      },
      "source": [
        "def get_exec_records():\n",
        "  exec_records = []\n",
        "  for row in rows:\n",
        "    result = get3cells(row)\n",
        "    exec_records.append(result)\n",
        "  return exec_records\n",
        "\n",
        "get_exec_records()"
      ],
      "execution_count": 11,
      "outputs": [
        {
          "output_type": "execute_result",
          "data": {
            "text/plain": [
              "[{'name': 'Mr. Sundar  Pichai', 'pay': '7.43M', 'title': 'CEO & Director'},\n",
              " {'name': 'Mr. Lawrence Edward Page',\n",
              "  'pay': '1',\n",
              "  'title': 'Co-Founder & Director'},\n",
              " {'name': 'Mr. Sergey  Brin', 'pay': '1', 'title': 'Co-Founder & Director'},\n",
              " {'name': 'Ms. Ruth M. Porat', 'pay': '672.77k', 'title': 'Sr. VP & CFO'},\n",
              " {'name': 'Dr. Prabhakar  Raghavan',\n",
              "  'pay': '664.75k',\n",
              "  'title': 'Sr. VP of Google'},\n",
              " {'name': 'Mr. Philipp  Schindler',\n",
              "  'pay': '881.82k',\n",
              "  'title': 'Sr. VP & Chief Bus. Officer of Google'},\n",
              " {'name': 'Mr. Kent  Walker', 'pay': '664.75k', 'title': 'Corp. Sec.'},\n",
              " {'name': \"Ms. Amie Thuener O'Toole\",\n",
              "  'pay': 'N/A',\n",
              "  'title': 'Chief Accounting Officer & VP'},\n",
              " {'name': 'Ms. Ellen  West',\n",
              "  'pay': 'N/A',\n",
              "  'title': 'VP of Investor Relations'},\n",
              " {'name': 'Ms. Fiona Clare Cicconi',\n",
              "  'pay': 'N/A',\n",
              "  'title': 'Chief People Officer'}]"
            ]
          },
          "metadata": {},
          "execution_count": 11
        }
      ]
    },
    {
      "cell_type": "code",
      "metadata": {
        "id": "qLks6MVCUXlG",
        "colab": {
          "base_uri": "https://localhost:8080/",
          "height": 35
        },
        "outputId": "bf9d55e9-f16a-4c16-f4db-f1e2738ede1b"
      },
      "source": [
        "records = get_exec_records()\n",
        "pay = records[2]['pay']\n",
        "\n",
        "number = pay[0:-1]\n",
        "number\n"
      ],
      "execution_count": 12,
      "outputs": [
        {
          "output_type": "execute_result",
          "data": {
            "application/vnd.google.colaboratory.intrinsic+json": {
              "type": "string"
            },
            "text/plain": [
              "''"
            ]
          },
          "metadata": {},
          "execution_count": 12
        }
      ]
    },
    {
      "cell_type": "code",
      "metadata": {
        "colab": {
          "base_uri": "https://localhost:8080/"
        },
        "id": "DzzM14H-xasR",
        "outputId": "4b84f5e4-3482-43ae-9e59-f67681cf7661"
      },
      "source": [
        "def thousand_translate(display):\n",
        "  last_char = display[-1]\n",
        "  last3_char = display[-3:-1] + display[-1] \n",
        "\n",
        "  if last3_char == \"N/A\":\n",
        "    salary = -1     # to distignuish N/A from zero salary\n",
        "    \n",
        "  elif last_char == 'M':    \n",
        "    number = display[0:-1]\n",
        "    salary = float(number) * 1000000\n",
        "  elif last_char == 'k': \n",
        "    number = display[0:-1]\n",
        "    salary = float(number) * 1000  \n",
        "  else:\n",
        "    salary = float(pay)  # some executives can have salary of $1 (i.e. not ending with k or M)\n",
        "  return salary\n",
        "\n",
        "print (thousand_translate(pay))"
      ],
      "execution_count": 13,
      "outputs": [
        {
          "output_type": "stream",
          "name": "stdout",
          "text": [
            "1.0\n"
          ]
        }
      ]
    },
    {
      "cell_type": "code",
      "metadata": {
        "colab": {
          "base_uri": "https://localhost:8080/"
        },
        "id": "NuHseC03Z_lw",
        "outputId": "ba25d686-6f81-4190-d470-88cee4b66071"
      },
      "source": [
        "# test adding a tax field in the recoard dictionary.\n",
        "records[0]['tax'] = 1000\n",
        "\n",
        "print (records[0])"
      ],
      "execution_count": 14,
      "outputs": [
        {
          "output_type": "stream",
          "name": "stdout",
          "text": [
            "{'name': 'Mr. Sundar  Pichai', 'title': 'CEO & Director', 'pay': '7.43M', 'tax': 1000}\n"
          ]
        }
      ]
    },
    {
      "cell_type": "code",
      "metadata": {
        "colab": {
          "base_uri": "https://localhost:8080/"
        },
        "id": "TxxF6j8QvefU",
        "outputId": "9322f58c-7762-4d39-f6a9-ee4ba96f8ec9"
      },
      "source": [
        "print (len(records))"
      ],
      "execution_count": 15,
      "outputs": [
        {
          "output_type": "stream",
          "name": "stdout",
          "text": [
            "10\n"
          ]
        }
      ]
    },
    {
      "cell_type": "code",
      "metadata": {
        "id": "4FzHWfxk3_Gt"
      },
      "source": [
        "def tax_cal(annualincome):\n",
        "  if annualincome <=18200:\n",
        "    tax_payable = 0\n",
        "  elif annualincome <=45000:\n",
        "    tax_payable = ( annualincome - 18200 ) * 0.19 \n",
        "  elif annualincome <=120000:\n",
        "    tax_payable = ( annualincome - 45000 ) * 0.325 + 5092\n",
        "  elif annualincome <=180000:\n",
        "    tax_payable = ( annualincome - 120000 ) * 0.37 + 29467\n",
        "  else:\n",
        "    tax_payable = ( annualincome - 180000 ) * 0.45 + 51667\n",
        "  return tax_payable"
      ],
      "execution_count": 16,
      "outputs": []
    },
    {
      "cell_type": "code",
      "metadata": {
        "colab": {
          "base_uri": "https://localhost:8080/"
        },
        "id": "XJpXdHLbutaj",
        "outputId": "cf9ca2f6-d0ef-4c70-8e40-5977628ee338"
      },
      "source": [
        "# calculate tax for each exective and add tax to the exec\n",
        "\n",
        "# ask/check currency, this is to cater for executive working in foreign company and needs to pay Australia tax.\n",
        "\n",
        "fx = input('If the compnay of the ticker is not in Australia, please input FX: 1 ForeignCurrency = ? AUD: (enter blank to skip) ')\n",
        "\n",
        "if fx == \"\":\n",
        "  fx = 1.0\n",
        " \n",
        "else:\n",
        "  fx = float(fx)\n",
        "  \n",
        " \n",
        "\n",
        "for record in records:\n",
        "  income = record['pay']\n",
        "  \n",
        "  temp = thousand_translate(income)\n",
        "  \n",
        "  if temp == -1:\n",
        "    record['tax'] = 'N/A'\n",
        "  \n",
        "  else:\n",
        "    temp1 = tax_cal(temp * fx)\n",
        "    if temp1 > 1000000:         # this if phrase is to convert big amounts to \"M\" or \"k\" format with 2 decimal point that is consistnent with pay\n",
        "      temp2 = str(round(temp1/1000000, 2)) +\"M\"\n",
        "    elif temp1 > 1000:\n",
        "      temp2 = str(round(temp1/1000, 2)) +\"k\"\n",
        "    else:\n",
        "      temp2 = str(temp1)\n",
        "    record['tax'] = temp2\n",
        "  \n",
        "  print (record['tax'])\n"
      ],
      "execution_count": 49,
      "outputs": [
        {
          "output_type": "stream",
          "name": "stdout",
          "text": [
            "If the compnay of the ticker is not in Australia, please input FX: 1 ForeignCurrency = ? AUD: (enter blank to skip) 1\n",
            "3.31M\n",
            "0\n",
            "0\n",
            "273.41k\n",
            "269.8k\n",
            "367.49k\n",
            "269.8k\n",
            "N/A\n",
            "N/A\n",
            "N/A\n"
          ]
        }
      ]
    },
    {
      "cell_type": "markdown",
      "metadata": {
        "id": "rQYwT0j3Qjdg"
      },
      "source": [
        ""
      ]
    },
    {
      "cell_type": "markdown",
      "metadata": {
        "id": "VoF_kdAoQs_O"
      },
      "source": [
        ""
      ]
    },
    {
      "cell_type": "code",
      "metadata": {
        "colab": {
          "base_uri": "https://localhost:8080/"
        },
        "id": "y47BCgglUPuy",
        "outputId": "ccaa6e6f-44c8-467e-cd83-fb418873eaf4"
      },
      "source": [
        "print(records)"
      ],
      "execution_count": 31,
      "outputs": [
        {
          "output_type": "stream",
          "name": "stdout",
          "text": [
            "[{'name': 'Mr. Sundar  Pichai', 'title': 'CEO & Director', 'pay': '7.43M', 'tax': 3314167.0}, {'name': 'Mr. Lawrence Edward Page', 'title': 'Co-Founder & Director', 'pay': '1', 'tax': 0}, {'name': 'Mr. Sergey  Brin', 'title': 'Co-Founder & Director', 'pay': '1', 'tax': 0}, {'name': 'Ms. Ruth M. Porat', 'title': 'Sr. VP & CFO', 'pay': '672.77k', 'tax': 273413.5}, {'name': 'Dr. Prabhakar  Raghavan', 'title': 'Sr. VP of Google', 'pay': '664.75k', 'tax': 269804.5}, {'name': 'Mr. Philipp  Schindler', 'title': 'Sr. VP & Chief Bus. Officer of Google', 'pay': '881.82k', 'tax': 367486.0}, {'name': 'Mr. Kent  Walker', 'title': 'Corp. Sec.', 'pay': '664.75k', 'tax': 269804.5}, {'name': \"Ms. Amie Thuener O'Toole\", 'title': 'Chief Accounting Officer & VP', 'pay': 'N/A', 'tax': 'N/A'}, {'name': 'Ms. Ellen  West', 'title': 'VP of Investor Relations', 'pay': 'N/A', 'tax': 'N/A'}, {'name': 'Ms. Fiona Clare Cicconi', 'title': 'Chief People Officer', 'pay': 'N/A', 'tax': 'N/A'}]\n"
          ]
        }
      ]
    },
    {
      "cell_type": "code",
      "metadata": {
        "id": "USeBKTLfQtOb"
      },
      "source": [
        "\n",
        "with open('/content/test2.csv','w') as f:\n",
        "  f.writelines(\"Name, Title, Pay(Original_Currency), Tax(AUD)\")\n",
        "  f.writelines(\"\\n\")\n",
        "  for record in records:\n",
        "    temp3 = str(record['name'])+ \",\" + str(record['title']) + \",\" + str(record['pay']) + \",\" + record['tax'])\n",
        "    f.writelines(temp3)\n",
        "    f.writelines(\"\\n\")  \n",
        "f.close()"
      ],
      "execution_count": 43,
      "outputs": []
    },
    {
      "cell_type": "code",
      "metadata": {
        "id": "-Smu_OGZARFH"
      },
      "source": [
        "# final coding in below"
      ],
      "execution_count": 19,
      "outputs": []
    },
    {
      "cell_type": "code",
      "metadata": {
        "id": "PsgxLs-LPqDH"
      },
      "source": [
        ""
      ],
      "execution_count": 19,
      "outputs": []
    }
  ]
}