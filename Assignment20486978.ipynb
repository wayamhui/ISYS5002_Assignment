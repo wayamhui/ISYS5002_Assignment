{
  "nbformat": 4,
  "nbformat_minor": 0,
  "metadata": {
    "colab": {
      "name": "Assignment20486978.ipynb",
      "provenance": [],
      "authorship_tag": "ABX9TyOXGPESzPiLVfhke4wtz5zA",
      "include_colab_link": true
    },
    "kernelspec": {
      "name": "python3",
      "display_name": "Python 3"
    },
    "language_info": {
      "name": "python"
    }
  },
  "cells": [
    {
      "cell_type": "markdown",
      "metadata": {
        "id": "view-in-github",
        "colab_type": "text"
      },
      "source": [
        "<a href=\"https://colab.research.google.com/github/wayamhui/ISYS5002_Assignment/blob/main/Assignment20486978.ipynb\" target=\"_parent\"><img src=\"https://colab.research.google.com/assets/colab-badge.svg\" alt=\"Open In Colab\"/></a>"
      ]
    },
    {
      "cell_type": "markdown",
      "metadata": {
        "id": "hPLnDTMTc_ul"
      },
      "source": [
        "Assignment20486978.ipynb"
      ]
    },
    {
      "cell_type": "code",
      "metadata": {
        "colab": {
          "base_uri": "https://localhost:8080/"
        },
        "id": "wscVWOuIeO_M",
        "outputId": "6456889b-26ef-4e52-9065-633e6234309a"
      },
      "source": [
        "# install pip and import useful modules\n",
        "\n",
        "!pip install kora -q\n",
        "import requests\n",
        "from bs4 import BeautifulSoup\n",
        "from kora.selenium import wd\n",
        "\n"
      ],
      "execution_count": 1,
      "outputs": [
        {
          "output_type": "stream",
          "name": "stderr",
          "text": [
            "/usr/local/lib/python3.7/dist-packages/requests/__init__.py:91: RequestsDependencyWarning: urllib3 (1.26.7) or chardet (3.0.4) doesn't match a supported version!\n",
            "  RequestsDependencyWarning)\n"
          ]
        }
      ]
    },
    {
      "cell_type": "code",
      "metadata": {
        "id": "oCQaZwapoC_4"
      },
      "source": [
        "import pandas as pd"
      ],
      "execution_count": 2,
      "outputs": []
    },
    {
      "cell_type": "code",
      "metadata": {
        "id": "qw5d_HoydEC4"
      },
      "source": [
        "# Tax calculation function standby in here, and it is used in the add_tax_in_records function\n",
        "\n",
        "def tax_cal(annualincome):\n",
        "  if annualincome <=18200:\n",
        "    tax_payable = 0\n",
        "  elif annualincome <=45000:\n",
        "    tax_payable = ( annualincome - 18200 ) * 0.19 \n",
        "  elif annualincome <=120000:\n",
        "    tax_payable = ( annualincome - 45000 ) * 0.325 + 5092\n",
        "  elif annualincome <=180000:\n",
        "    tax_payable = ( annualincome - 120000 ) * 0.37 + 29467\n",
        "  else:\n",
        "    tax_payable = ( annualincome - 180000 ) * 0.45 + 51667\n",
        "  return tax_payable\n"
      ],
      "execution_count": 22,
      "outputs": []
    },
    {
      "cell_type": "code",
      "metadata": {
        "id": "g3d49sYZev1C"
      },
      "source": [
        "# URL creation function ready\n",
        "\n",
        "# user input ticker symbol\n",
        "\n",
        "\n",
        "def build_url(ticker_symbol):\n",
        "\n",
        "  # print(ticker_symbol)\n",
        "  # user tikcer to get profile page\n",
        "  example_url = 'https://finance.yahoo.com/quote/{}/profile?p={}'\n",
        "  result = example_url.format (ticker_symbol,ticker_symbol)\n",
        "  return result"
      ],
      "execution_count": 23,
      "outputs": []
    },
    {
      "cell_type": "code",
      "metadata": {
        "id": "Dgz65_W3e8f1"
      },
      "source": [
        "# Validate the input for ticker\n",
        "\n",
        "def validate_url_of_ticker(ticker):\n",
        "  valid = False   # F needs to be capitalized\n",
        "\n",
        "  while not valid:\n",
        "    try:\n",
        "      url = build_url(ticker)\n",
        "      # print(url)\n",
        "      wd.get(url)    \n",
        "\n",
        "      soup = BeautifulSoup(wd.page_source, \"html.parser\")\n",
        "\n",
        "      table = soup.find('table')\n",
        "      body = soup.find('tbody')\n",
        "      rows = body.find_all('tr')\n",
        "      \n",
        "      valid = True\n",
        "\n",
        "    except AttributeError:\n",
        "      print(\"The ticker inputted seems not a valid company, please re-input ticker symbol for a comany...\") \n",
        "      ticker = input (\"Please input a ticker symbol to view the excecutives' annual pay and the calculated AXO tax (e.g. NAB.AX): \")\n",
        "  return url\n"
      ],
      "execution_count": 24,
      "outputs": []
    },
    {
      "cell_type": "code",
      "metadata": {
        "colab": {
          "base_uri": "https://localhost:8080/",
          "height": 347
        },
        "id": "6xzwegOOrAhn",
        "outputId": "923bc8b4-d764-4ef6-b759-3de744935d38"
      },
      "source": [
        "def get_rows_from_url_table():\n",
        "\n",
        "  wd.get(url)\n",
        "  soup = BeautifulSoup(wd.page_source, \"html.parser\")\n",
        "  table = soup.find('table')\n",
        "  body = soup.find_all('tbody')\n",
        "\n",
        "  # print (body)\n",
        "  # print (len(body))\n",
        "\n",
        "  body = soup.find('tbody')\n",
        "\n",
        "  # print (body)\n",
        "  # print (len(body))\n",
        "\n",
        "  rows = body.find_all('tr')\n",
        "  # print (len(rows))\n",
        "\n",
        "  row1 = rows[0]\n",
        "  cells = row.find_all('td')\n",
        "  # print (len(cells))\n",
        "\n",
        "  name = cells[0]\n",
        "  title = cells[1]\n",
        "  pay = cells[2]\n",
        "\n",
        "  return rows\n",
        "\n",
        "# rows = get_rows_from_url_table()\n",
        "\n",
        "def get3cells(row):    \n",
        "  cells = row.find_all('td')\n",
        "  # print (len(cells))\n",
        "  name = cells[0].text\n",
        "  title = cells[1].text\n",
        "  pay = cells[2].text\n",
        "  \n",
        "  # for item in [0,1,2,3,4]:\n",
        "  #  print (cells[item].text)  # to test print 4 cells together.\n",
        "\n",
        "  return {'name': name, 'title': title, 'pay': pay}  # using dictionary type, so no need to remember zero refers to name, 1 refers to title, etc)\n",
        "\n",
        "# print (get3cells(rows[3])) # hange to commentary, after tested"
      ],
      "execution_count": 25,
      "outputs": [
        {
          "output_type": "error",
          "ename": "NameError",
          "evalue": "ignored",
          "traceback": [
            "\u001b[0;31m---------------------------------------------------------------------------\u001b[0m",
            "\u001b[0;31mNameError\u001b[0m                                 Traceback (most recent call last)",
            "\u001b[0;32m<ipython-input-25-9377effc2324>\u001b[0m in \u001b[0;36m<module>\u001b[0;34m()\u001b[0m\n\u001b[1;32m     27\u001b[0m   \u001b[0;32mreturn\u001b[0m \u001b[0mrows\u001b[0m\u001b[0;34m\u001b[0m\u001b[0;34m\u001b[0m\u001b[0m\n\u001b[1;32m     28\u001b[0m \u001b[0;34m\u001b[0m\u001b[0m\n\u001b[0;32m---> 29\u001b[0;31m \u001b[0mrows\u001b[0m \u001b[0;34m=\u001b[0m \u001b[0mget_rows_from_url_table\u001b[0m\u001b[0;34m(\u001b[0m\u001b[0;34m)\u001b[0m\u001b[0;34m\u001b[0m\u001b[0;34m\u001b[0m\u001b[0m\n\u001b[0m\u001b[1;32m     30\u001b[0m \u001b[0;34m\u001b[0m\u001b[0m\n\u001b[1;32m     31\u001b[0m \u001b[0;32mdef\u001b[0m \u001b[0mget3cells\u001b[0m\u001b[0;34m(\u001b[0m\u001b[0mrow\u001b[0m\u001b[0;34m)\u001b[0m\u001b[0;34m:\u001b[0m\u001b[0;34m\u001b[0m\u001b[0;34m\u001b[0m\u001b[0m\n",
            "\u001b[0;32m<ipython-input-25-9377effc2324>\u001b[0m in \u001b[0;36mget_rows_from_url_table\u001b[0;34m()\u001b[0m\n\u001b[1;32m      1\u001b[0m \u001b[0;32mdef\u001b[0m \u001b[0mget_rows_from_url_table\u001b[0m\u001b[0;34m(\u001b[0m\u001b[0;34m)\u001b[0m\u001b[0;34m:\u001b[0m\u001b[0;34m\u001b[0m\u001b[0;34m\u001b[0m\u001b[0m\n\u001b[1;32m      2\u001b[0m \u001b[0;34m\u001b[0m\u001b[0m\n\u001b[0;32m----> 3\u001b[0;31m   \u001b[0mwd\u001b[0m\u001b[0;34m.\u001b[0m\u001b[0mget\u001b[0m\u001b[0;34m(\u001b[0m\u001b[0murl\u001b[0m\u001b[0;34m)\u001b[0m\u001b[0;34m\u001b[0m\u001b[0;34m\u001b[0m\u001b[0m\n\u001b[0m\u001b[1;32m      4\u001b[0m   \u001b[0msoup\u001b[0m \u001b[0;34m=\u001b[0m \u001b[0mBeautifulSoup\u001b[0m\u001b[0;34m(\u001b[0m\u001b[0mwd\u001b[0m\u001b[0;34m.\u001b[0m\u001b[0mpage_source\u001b[0m\u001b[0;34m,\u001b[0m \u001b[0;34m\"html.parser\"\u001b[0m\u001b[0;34m)\u001b[0m\u001b[0;34m\u001b[0m\u001b[0;34m\u001b[0m\u001b[0m\n\u001b[1;32m      5\u001b[0m   \u001b[0mtable\u001b[0m \u001b[0;34m=\u001b[0m \u001b[0msoup\u001b[0m\u001b[0;34m.\u001b[0m\u001b[0mfind\u001b[0m\u001b[0;34m(\u001b[0m\u001b[0;34m'table'\u001b[0m\u001b[0;34m)\u001b[0m\u001b[0;34m\u001b[0m\u001b[0;34m\u001b[0m\u001b[0m\n",
            "\u001b[0;31mNameError\u001b[0m: name 'url' is not defined"
          ]
        }
      ]
    },
    {
      "cell_type": "code",
      "metadata": {
        "id": "HU5fFwK4tcuF"
      },
      "source": [
        "# get records from the URL's profile table\n",
        "def get_exec_records():\n",
        "  exec_records = []\n",
        "  for row in rows:\n",
        "    result = get3cells(row)\n",
        "    exec_records.append(result)\n",
        "  return exec_records\n",
        "\n",
        "# print (get_exec_records())"
      ],
      "execution_count": 17,
      "outputs": []
    },
    {
      "cell_type": "code",
      "metadata": {
        "colab": {
          "base_uri": "https://localhost:8080/"
        },
        "id": "PBntd5t2v3-J",
        "outputId": "3a77bc8e-725d-4109-855a-2a72fd076e7e"
      },
      "source": [
        "# validate foreign exchange rate\n",
        "\n",
        "def validate_fx():\n",
        "  valid = False\n",
        "  while not valid:\n",
        "    try: \n",
        "      fx = input('If the compnay of the ticker is not listed in Australia, please input FX: 1 ForeignCurrency = ? AUD: (enter blank if Australia listed) ')\n",
        "      if fx == \"\":\n",
        "        fx = 1.0    \n",
        "      else:\n",
        "        fx = float(fx)\n",
        "      valid = True\n",
        "    except ValueError:\n",
        "      print ('please re-input FX in number format (decimal points are accepted...')\n",
        "  return fx\n",
        "\n",
        "validate_fx()"
      ],
      "execution_count": 18,
      "outputs": [
        {
          "name": "stdout",
          "output_type": "stream",
          "text": [
            "If the compnay of the ticker is not listed in Australia, please input FX: 1 ForeignCurrency = ? AUD: (enter blank if Australia listed) 1\n"
          ]
        },
        {
          "output_type": "execute_result",
          "data": {
            "text/plain": [
              "1.0"
            ]
          },
          "metadata": {},
          "execution_count": 18
        }
      ]
    },
    {
      "cell_type": "code",
      "metadata": {
        "colab": {
          "base_uri": "https://localhost:8080/",
          "height": 347
        },
        "id": "OGCQFTd9xZLS",
        "outputId": "f57103bb-66a8-45e6-b1e9-47ecb8815528"
      },
      "source": [
        "def thousand_translate(pay_display):\n",
        "  last_char = pay_display[-1]\n",
        "  last3_char = pay_display[-3:-1] + pay_display[-1] \n",
        "\n",
        "  if last3_char == \"N/A\":\n",
        "    salary = -1     # to distignuish N/A from zero salary\n",
        "    \n",
        "  elif last_char == 'M':    \n",
        "    number = pay_display[0:-1]\n",
        "    salary = float(number) * 1000000\n",
        "  elif last_char == 'k': \n",
        "    number = pay_display[0:-1]\n",
        "    salary = float(number) * 1000  \n",
        "  else:\n",
        "    salary = float(pay)  # some executives can have salary of $1 (i.e. not ending with k or M)\n",
        "  return salary\n",
        "\n",
        "records = get_exec_records()\n",
        "# pay = records[2]['pay']\n",
        "# print (thousand_translate(pay))"
      ],
      "execution_count": 19,
      "outputs": [
        {
          "output_type": "error",
          "ename": "NameError",
          "evalue": "ignored",
          "traceback": [
            "\u001b[0;31m---------------------------------------------------------------------------\u001b[0m",
            "\u001b[0;31mNameError\u001b[0m                                 Traceback (most recent call last)",
            "\u001b[0;32m<ipython-input-19-6d4795c27809>\u001b[0m in \u001b[0;36m<module>\u001b[0;34m()\u001b[0m\n\u001b[1;32m     16\u001b[0m   \u001b[0;32mreturn\u001b[0m \u001b[0msalary\u001b[0m\u001b[0;34m\u001b[0m\u001b[0;34m\u001b[0m\u001b[0m\n\u001b[1;32m     17\u001b[0m \u001b[0;34m\u001b[0m\u001b[0m\n\u001b[0;32m---> 18\u001b[0;31m \u001b[0mrecords\u001b[0m \u001b[0;34m=\u001b[0m \u001b[0mget_exec_records\u001b[0m\u001b[0;34m(\u001b[0m\u001b[0;34m)\u001b[0m\u001b[0;34m\u001b[0m\u001b[0;34m\u001b[0m\u001b[0m\n\u001b[0m\u001b[1;32m     19\u001b[0m \u001b[0;31m# pay = records[2]['pay']\u001b[0m\u001b[0;34m\u001b[0m\u001b[0;34m\u001b[0m\u001b[0;34m\u001b[0m\u001b[0m\n\u001b[1;32m     20\u001b[0m \u001b[0;31m# print (thousand_translate(pay))\u001b[0m\u001b[0;34m\u001b[0m\u001b[0;34m\u001b[0m\u001b[0;34m\u001b[0m\u001b[0m\n",
            "\u001b[0;32m<ipython-input-17-e070c25fe281>\u001b[0m in \u001b[0;36mget_exec_records\u001b[0;34m()\u001b[0m\n\u001b[1;32m      2\u001b[0m \u001b[0;32mdef\u001b[0m \u001b[0mget_exec_records\u001b[0m\u001b[0;34m(\u001b[0m\u001b[0;34m)\u001b[0m\u001b[0;34m:\u001b[0m\u001b[0;34m\u001b[0m\u001b[0;34m\u001b[0m\u001b[0m\n\u001b[1;32m      3\u001b[0m   \u001b[0mexec_records\u001b[0m \u001b[0;34m=\u001b[0m \u001b[0;34m[\u001b[0m\u001b[0;34m]\u001b[0m\u001b[0;34m\u001b[0m\u001b[0;34m\u001b[0m\u001b[0m\n\u001b[0;32m----> 4\u001b[0;31m   \u001b[0;32mfor\u001b[0m \u001b[0mrow\u001b[0m \u001b[0;32min\u001b[0m \u001b[0mrows\u001b[0m\u001b[0;34m:\u001b[0m\u001b[0;34m\u001b[0m\u001b[0;34m\u001b[0m\u001b[0m\n\u001b[0m\u001b[1;32m      5\u001b[0m     \u001b[0mresult\u001b[0m \u001b[0;34m=\u001b[0m \u001b[0mget3cells\u001b[0m\u001b[0;34m(\u001b[0m\u001b[0mrow\u001b[0m\u001b[0;34m)\u001b[0m\u001b[0;34m\u001b[0m\u001b[0;34m\u001b[0m\u001b[0m\n\u001b[1;32m      6\u001b[0m     \u001b[0mexec_records\u001b[0m\u001b[0;34m.\u001b[0m\u001b[0mappend\u001b[0m\u001b[0;34m(\u001b[0m\u001b[0mresult\u001b[0m\u001b[0;34m)\u001b[0m\u001b[0;34m\u001b[0m\u001b[0;34m\u001b[0m\u001b[0m\n",
            "\u001b[0;31mNameError\u001b[0m: name 'rows' is not defined"
          ]
        }
      ]
    },
    {
      "cell_type": "code",
      "metadata": {
        "id": "xbgA0ZHw0dCf"
      },
      "source": [
        "def add_tax_in_records(fx):\n",
        "  for record in records:\n",
        "    income = record['pay']\n",
        "    \n",
        "    temp = thousand_translate(income)\n",
        "    \n",
        "    if temp == -1:\n",
        "      record['tax'] = 'N/A'\n",
        "    \n",
        "    else:\n",
        "      temp1 = tax_cal(temp * fx)\n",
        "      if temp1 > 1000000:         # this if phrase is to convert big amounts to \"M\" or \"k\" format with 2 decimal point that is consistnent with pay\n",
        "        temp2 = str(round(temp1/1000000, 2)) +\"M\"\n",
        "      elif temp1 > 1000:\n",
        "        temp2 = str(round(temp1/1000, 2)) +\"k\"\n",
        "      else:\n",
        "        temp2 = str(temp1)\n",
        "      record['tax'] = temp2\n",
        "      # print (record['tax'])  # test print before finalizing the function\n",
        "  return temp2  # it is also okay not to return any value, now returns the last non-N/A tax record\n",
        "    \n",
        "# add_tax_in_records(validate_fx())"
      ],
      "execution_count": 12,
      "outputs": []
    },
    {
      "cell_type": "code",
      "metadata": {
        "id": "olB7yxld7opd"
      },
      "source": [
        "def output_to_cvs(name):\n",
        "  \n",
        "  fullname = '/content/' + name + '.csv'  \n",
        "  with open(fullname,'w') as f:\n",
        "    f.writelines(\"Name, Title, Pay(Original_Currency), Tax(AUD)\")\n",
        "    f.writelines(\"\\n\")\n",
        "    for record in records:\n",
        "      temp3 = str(record['name'])+ \",\" + str(record['title']) + \",\" + str(record['pay']) + \",\" + str(record['tax']) \n",
        "      f.writelines(temp3)\n",
        "      f.writelines(\"\\n\")  \n",
        "  f.close()\n"
      ],
      "execution_count": 13,
      "outputs": []
    },
    {
      "cell_type": "markdown",
      "metadata": {
        "id": "vBX34FQHv6Ye"
      },
      "source": [
        "# This session is the main program by recalling the functions defined in above. \n",
        "This session can be run multiple times, all previous session only need to run once. "
      ]
    },
    {
      "cell_type": "code",
      "metadata": {
        "colab": {
          "base_uri": "https://localhost:8080/",
          "height": 364
        },
        "id": "stzkyYjowTrM",
        "outputId": "a4346fb4-65a5-454a-b366-bf5c71f0e9ca"
      },
      "source": [
        "# main input:\n",
        "ticker = input (\"Please input a ticker symbol to view the excecutives' annual pay and the calculated AXO tax (e.g. NAB.AX): \")\n",
        "\n",
        "# functions used:\n",
        "validate_url_of_ticker(ticker)\n",
        "get_exec_records()\n",
        "fx = validate_fx()\n",
        "add_tax_in_records(fx)\n",
        "\n",
        "# Ask for csv fileame to use for the output:\n",
        "\n",
        "filename = input('please input the filename you would like to save as a csv file (enter blank to use the first 3 charactors of the ticker as filename): ')\n",
        "if filename == '':\n",
        "  output_to_cvs(ticker[0:3])  # use first 3 charactors to avoid picking the dot for use in filename\n",
        "else:\n",
        "  output_to_cvs(filename) \n",
        "\n",
        "\n"
      ],
      "execution_count": 21,
      "outputs": [
        {
          "name": "stdout",
          "output_type": "stream",
          "text": [
            "Please input a ticker symbol to view the excecutives' annual pay and the calculated AXO tax (e.g. NAB.AX): nab.ax\n"
          ]
        },
        {
          "output_type": "error",
          "ename": "NameError",
          "evalue": "ignored",
          "traceback": [
            "\u001b[0;31m---------------------------------------------------------------------------\u001b[0m",
            "\u001b[0;31mNameError\u001b[0m                                 Traceback (most recent call last)",
            "\u001b[0;32m<ipython-input-21-5c68d94c8779>\u001b[0m in \u001b[0;36m<module>\u001b[0;34m()\u001b[0m\n\u001b[1;32m      4\u001b[0m \u001b[0;31m# functions used:\u001b[0m\u001b[0;34m\u001b[0m\u001b[0;34m\u001b[0m\u001b[0;34m\u001b[0m\u001b[0m\n\u001b[1;32m      5\u001b[0m \u001b[0mvalidate_url_of_ticker\u001b[0m\u001b[0;34m(\u001b[0m\u001b[0mticker\u001b[0m\u001b[0;34m)\u001b[0m\u001b[0;34m\u001b[0m\u001b[0;34m\u001b[0m\u001b[0m\n\u001b[0;32m----> 6\u001b[0;31m \u001b[0mget_exec_records\u001b[0m\u001b[0;34m(\u001b[0m\u001b[0;34m)\u001b[0m\u001b[0;34m\u001b[0m\u001b[0;34m\u001b[0m\u001b[0m\n\u001b[0m\u001b[1;32m      7\u001b[0m \u001b[0mfx\u001b[0m \u001b[0;34m=\u001b[0m \u001b[0mvalidate_fx\u001b[0m\u001b[0;34m(\u001b[0m\u001b[0;34m)\u001b[0m\u001b[0;34m\u001b[0m\u001b[0;34m\u001b[0m\u001b[0m\n\u001b[1;32m      8\u001b[0m \u001b[0madd_tax_in_records\u001b[0m\u001b[0;34m(\u001b[0m\u001b[0mfx\u001b[0m\u001b[0;34m)\u001b[0m\u001b[0;34m\u001b[0m\u001b[0;34m\u001b[0m\u001b[0m\n",
            "\u001b[0;32m<ipython-input-17-e070c25fe281>\u001b[0m in \u001b[0;36mget_exec_records\u001b[0;34m()\u001b[0m\n\u001b[1;32m      2\u001b[0m \u001b[0;32mdef\u001b[0m \u001b[0mget_exec_records\u001b[0m\u001b[0;34m(\u001b[0m\u001b[0;34m)\u001b[0m\u001b[0;34m:\u001b[0m\u001b[0;34m\u001b[0m\u001b[0;34m\u001b[0m\u001b[0m\n\u001b[1;32m      3\u001b[0m   \u001b[0mexec_records\u001b[0m \u001b[0;34m=\u001b[0m \u001b[0;34m[\u001b[0m\u001b[0;34m]\u001b[0m\u001b[0;34m\u001b[0m\u001b[0;34m\u001b[0m\u001b[0m\n\u001b[0;32m----> 4\u001b[0;31m   \u001b[0;32mfor\u001b[0m \u001b[0mrow\u001b[0m \u001b[0;32min\u001b[0m \u001b[0mrows\u001b[0m\u001b[0;34m:\u001b[0m\u001b[0;34m\u001b[0m\u001b[0;34m\u001b[0m\u001b[0m\n\u001b[0m\u001b[1;32m      5\u001b[0m     \u001b[0mresult\u001b[0m \u001b[0;34m=\u001b[0m \u001b[0mget3cells\u001b[0m\u001b[0;34m(\u001b[0m\u001b[0mrow\u001b[0m\u001b[0;34m)\u001b[0m\u001b[0;34m\u001b[0m\u001b[0;34m\u001b[0m\u001b[0m\n\u001b[1;32m      6\u001b[0m     \u001b[0mexec_records\u001b[0m\u001b[0;34m.\u001b[0m\u001b[0mappend\u001b[0m\u001b[0;34m(\u001b[0m\u001b[0mresult\u001b[0m\u001b[0;34m)\u001b[0m\u001b[0;34m\u001b[0m\u001b[0;34m\u001b[0m\u001b[0m\n",
            "\u001b[0;31mNameError\u001b[0m: name 'rows' is not defined"
          ]
        }
      ]
    }
  ]
}