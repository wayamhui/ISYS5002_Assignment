{
  "nbformat": 4,
  "nbformat_minor": 0,
  "metadata": {
    "colab": {
      "name": "Assignment20486978.ipynb",
      "provenance": [],
      "authorship_tag": "ABX9TyOOBxoV23plUSP291mb7pU+",
      "include_colab_link": true
    },
    "kernelspec": {
      "name": "python3",
      "display_name": "Python 3"
    },
    "language_info": {
      "name": "python"
    }
  },
  "cells": [
    {
      "cell_type": "markdown",
      "metadata": {
        "id": "view-in-github",
        "colab_type": "text"
      },
      "source": [
        "<a href=\"https://colab.research.google.com/github/wayamhui/ISYS5002_Assignment/blob/main/Assignment20486978.ipynb\" target=\"_parent\"><img src=\"https://colab.research.google.com/assets/colab-badge.svg\" alt=\"Open In Colab\"/></a>"
      ]
    },
    {
      "cell_type": "markdown",
      "metadata": {
        "id": "hPLnDTMTc_ul"
      },
      "source": [
        "Assignment20486978.ipynb"
      ]
    },
    {
      "cell_type": "code",
      "metadata": {
        "colab": {
          "base_uri": "https://localhost:8080/"
        },
        "id": "wscVWOuIeO_M",
        "outputId": "6975bfa4-2ac7-48a1-e900-1f0c6d68c9ec"
      },
      "source": [
        "# install pip and import useful modules\n",
        "\n",
        "!pip install kora -q\n",
        "import requests\n",
        "from bs4 import BeautifulSoup\n",
        "from kora.selenium import wd\n",
        "\n"
      ],
      "execution_count": 1,
      "outputs": [
        {
          "output_type": "stream",
          "name": "stderr",
          "text": [
            "/usr/local/lib/python3.7/dist-packages/requests/__init__.py:91: RequestsDependencyWarning: urllib3 (1.26.7) or chardet (3.0.4) doesn't match a supported version!\n",
            "  RequestsDependencyWarning)\n"
          ]
        }
      ]
    },
    {
      "cell_type": "code",
      "metadata": {
        "id": "oCQaZwapoC_4"
      },
      "source": [
        "import pandas as pd"
      ],
      "execution_count": 2,
      "outputs": []
    },
    {
      "cell_type": "code",
      "metadata": {
        "id": "qw5d_HoydEC4"
      },
      "source": [
        "# Tax calculation function standby in here, and it is used in the add_tax_in_records function\n",
        "\n",
        "def tax_cal(annualincome):\n",
        "  if annualincome <=18200:\n",
        "    tax_payable = 0\n",
        "  elif annualincome <=45000:\n",
        "    tax_payable = ( annualincome - 18200 ) * 0.19 \n",
        "  elif annualincome <=120000:\n",
        "    tax_payable = ( annualincome - 45000 ) * 0.325 + 5092\n",
        "  elif annualincome <=180000:\n",
        "    tax_payable = ( annualincome - 120000 ) * 0.37 + 29467\n",
        "  else:\n",
        "    tax_payable = ( annualincome - 180000 ) * 0.45 + 51667\n",
        "  return tax_payable\n"
      ],
      "execution_count": 3,
      "outputs": []
    },
    {
      "cell_type": "code",
      "metadata": {
        "id": "g3d49sYZev1C"
      },
      "source": [
        "# URL creation function ready\n",
        "\n",
        "# user input ticker symbol\n",
        "\n",
        "\n",
        "def build_url(ticker_symbol):\n",
        "\n",
        "  # print(ticker_symbol)\n",
        "  # user tikcer to get profile page\n",
        "  example_url = 'https://finance.yahoo.com/quote/{}/profile?p={}'\n",
        "  result = example_url.format (ticker_symbol,ticker_symbol)\n",
        "  return result"
      ],
      "execution_count": 4,
      "outputs": []
    },
    {
      "cell_type": "code",
      "metadata": {
        "id": "Dgz65_W3e8f1"
      },
      "source": [
        "# Validate the input for ticker\n",
        "\n",
        "def validate_url_of_ticker(ticker_symbol):   # url as an input\n",
        "  valid = False   # F needs to be capitalized\n",
        "\n",
        "  while not valid:\n",
        "    try:      \n",
        "      # print(url)\n",
        "      url = build_url(ticker_symbol)\n",
        "      wd.get(url)    \n",
        "\n",
        "      soup = BeautifulSoup(wd.page_source, \"html.parser\")\n",
        "\n",
        "      table = soup.find('table')\n",
        "      body = soup.find('tbody')\n",
        "      rows = body.find_all('tr')\n",
        "      \n",
        "      valid = True\n",
        "\n",
        "    except AttributeError:\n",
        "      print(\"The ticker inputted seems not a valid company, please re-input ticker symbol for a comany...\") \n",
        "      ticker_symbol = input (\"Please input a ticker symbol to view the excecutives' annual pay and the calculated AXO tax (e.g. NAB.AX): \")\n",
        "  return ticker_symbol\n",
        "\n",
        "\n",
        "# urltest = validate_url_of_ticker('nab.ax')\n"
      ],
      "execution_count": 15,
      "outputs": []
    },
    {
      "cell_type": "code",
      "metadata": {
        "id": "6xzwegOOrAhn"
      },
      "source": [
        "def get_rows_from_url_table(url):  # url as an input\n",
        "\n",
        "  wd.get(url)\n",
        "  soup = BeautifulSoup(wd.page_source, \"html.parser\")\n",
        "  table = soup.find('table')\n",
        "  body = soup.find_all('tbody')\n",
        "\n",
        "  # print (body)\n",
        "  # print (len(body))\n",
        "\n",
        "  body = soup.find('tbody')\n",
        "\n",
        "  # print (body)\n",
        "  # print (len(body))\n",
        "\n",
        "  rows = body.find_all('tr')\n",
        "  # print (len(rows))\n",
        "\n",
        "  row1 = rows[0]\n",
        "  cells = row1.find_all('td')\n",
        "  # print (len(cells))\n",
        "\n",
        "  name = cells[0]\n",
        "  title = cells[1]\n",
        "  pay = cells[2]\n",
        "\n",
        "  return rows\n",
        "\n",
        "# rows = get_rows_from_url_table()\n",
        "\n",
        "def get3cells(row):    \n",
        "  cells = row.find_all('td')\n",
        "  # print (len(cells))\n",
        "  name = cells[0].text\n",
        "  title = cells[1].text\n",
        "  pay = cells[2].text\n",
        "  \n",
        "  # for item in [0,1,2,3,4]:\n",
        "  #  print (cells[item].text)  # to test print 4 cells together.\n",
        "\n",
        "  return {'name': name, 'title': title, 'pay': pay}  # using dictionary type, so no need to remember zero refers to name, 1 refers to title, etc)\n",
        "\n",
        "# print (get3cells(rows[3])) # hange to commentary, after tested"
      ],
      "execution_count": 6,
      "outputs": []
    },
    {
      "cell_type": "code",
      "metadata": {
        "id": "HU5fFwK4tcuF"
      },
      "source": [
        "# get executive pay from the URL's profile table to construct records in our dictionary\n",
        "\n",
        "def get_exec_records(rows):  # rows is used as an input to this function\n",
        "  exec_records = []\n",
        "  for row in rows:\n",
        "    result = get3cells(row)\n",
        "    exec_records.append(result)\n",
        "  return exec_records\n",
        "\n",
        "# print (get_exec_records({xxxxx}))"
      ],
      "execution_count": 7,
      "outputs": []
    },
    {
      "cell_type": "code",
      "metadata": {
        "id": "PBntd5t2v3-J"
      },
      "source": [
        "# validate foreign exchange rate\n",
        "\n",
        "def validate_fx(fx):\n",
        "  valid = False\n",
        "  while not valid:\n",
        "    try:       \n",
        "      if fx == \"\":\n",
        "        fx = 1.0    \n",
        "      else:\n",
        "        fx = float(fx)\n",
        "      valid = True\n",
        "    except ValueError:\n",
        "      print ('Please re-input FX in number format (decimal points are accepted)...')\n",
        "      fx = input('If the company of the ticker is not listed in Australia, please input FX: 1 ForeignCurrency = ? AUD (Enter blank if Australia listed): ')\n",
        "  return fx\n",
        "\n",
        "# validate_fx('a')\n",
        "# validate_fx(2)"
      ],
      "execution_count": 8,
      "outputs": []
    },
    {
      "cell_type": "code",
      "metadata": {
        "id": "OGCQFTd9xZLS"
      },
      "source": [
        "def thousand_translate(pay_display): # this is to translate the pay in \"M\" and \"k\" format to normal number format\n",
        "  last_char = pay_display[-1]\n",
        "  last3_char = pay_display[-3:-1] + pay_display[-1] \n",
        "\n",
        "  if last3_char == \"N/A\":\n",
        "    salary = -1     # to distignuish N/A (as -1) from zero salary\n",
        "    \n",
        "  elif last_char == 'M':    \n",
        "    number = pay_display[0:-1]\n",
        "    salary = float(number) * 1000000\n",
        "  elif last_char == 'k': \n",
        "    number = pay_display[0:-1]\n",
        "    salary = float(number) * 1000  \n",
        "  else:\n",
        "    salary = float(pay_display)  # some executives can have salary of $1 (i.e. not ending with k or M)\n",
        "  return salary\n",
        "\n",
        "\n",
        "# print (thousand_translate('3k'))\n",
        "# records = get_exec_records()"
      ],
      "execution_count": 9,
      "outputs": []
    },
    {
      "cell_type": "code",
      "metadata": {
        "id": "xbgA0ZHw0dCf"
      },
      "source": [
        "def add_tax_in_records(records):\n",
        "  for record in records:\n",
        "    income = record['pay']\n",
        "    \n",
        "    temp = thousand_translate(income)\n",
        "    \n",
        "    if temp == -1:\n",
        "      record['tax'] = 'N/A'\n",
        "    \n",
        "    else:\n",
        "      temp1 = tax_cal(temp * fxtoaud)   # global fx, ,not local variable\n",
        "      if temp1 > 1000000:         # this if phrase is to convert big amounts to \"M\" or \"k\" format with 2 decimal point that is consistnent with pay\n",
        "        temp2 = str(round(temp1/1000000, 2)) +\"M\"\n",
        "      elif temp1 > 1000:\n",
        "        temp2 = str(round(temp1/1000, 2)) +\"k\"\n",
        "      else:\n",
        "        temp2 = str(temp1)\n",
        "      record['tax'] = temp2\n",
        "      # print (record['tax'])  # test print before finalizing the function\n",
        "  return records  \n",
        "    \n",
        "# add_tax_in_records(validate_fx())"
      ],
      "execution_count": 10,
      "outputs": []
    },
    {
      "cell_type": "code",
      "metadata": {
        "id": "olB7yxld7opd"
      },
      "source": [
        "def output_to_cvs(name):\n",
        "  \n",
        "  fullname = '/content/' + name + '.csv'  \n",
        "  with open(fullname,'w') as f:\n",
        "    f.writelines(\"Name \\t Title \\t Pay(Original_Currency) \\t Tax(AUD)\")\n",
        "    f.writelines(\"\\n\")\n",
        "    for record in records:\n",
        "      temp3 = str(record['name'])+ \"\\t\" + str(record['title']) + \"\\t\" + str(record['pay']) + \"\\t\" + str(record['tax']) \n",
        "      f.writelines(temp3)\n",
        "      f.writelines(\"\\n\")  \n",
        "  f.close()\n",
        "\n",
        "output_to_cvs('tab')"
      ],
      "execution_count": 31,
      "outputs": []
    },
    {
      "cell_type": "code",
      "metadata": {
        "id": "Qpr7Y_CNEb-3"
      },
      "source": [
        "def view_records():\n",
        "  print (\"Pay(OriginalCurrency) \\tTax(AUD) \\tName & Title\")\n",
        "    \n",
        "  for record in records:\n",
        "      temp4 = str(record['pay']) + \"\\t\"+\"\\t\"+\"\\t\" + str(record['tax'] + \"\\t\"+\"\\t\" + str(record['name'])+ \" as \" + str(record['title'])) \n",
        "      print(temp4)\n",
        "  \n"
      ],
      "execution_count": 64,
      "outputs": []
    },
    {
      "cell_type": "markdown",
      "metadata": {
        "id": "vBX34FQHv6Ye"
      },
      "source": [
        "# This session is the main program by recalling the functions defined in above. \n",
        "This session can be run multiple times, all previous session only need to run once. "
      ]
    },
    {
      "cell_type": "code",
      "metadata": {
        "colab": {
          "base_uri": "https://localhost:8080/"
        },
        "id": "stzkyYjowTrM",
        "outputId": "b29a0882-114b-4032-e801-96643160b8b8"
      },
      "source": [
        "# main input and validation:\n",
        "\n",
        "ticker = input (\"Please input a ticker symbol to view the excecutives' annual pay and the calculated AXO tax (e.g. NAB.AX): \")\n",
        "updatedticker = validate_url_of_ticker(ticker)\n",
        "url = build_url(updatedticker)\n",
        "\n",
        "fx = input('If the company of the ticker is not listed in Australia, please input FX: 1 ForeignCurrency = ? AUD: (Enter blank if Australia listed) ')\n",
        "fxtoaud = validate_fx(fx)\n",
        "\n",
        "  # print (url)\n",
        "\n",
        "# functions used:\n",
        "  \n",
        "rows = get_rows_from_url_table(url)\n",
        "\n",
        "records = get_exec_records(rows)\n",
        "\n",
        "  # print (records)\n",
        "\n",
        "add_tax_in_records(records)\n",
        "\n",
        "  # print (records) \n",
        "\n",
        "#  Ask user to choose view records immediately or to save to csv file\n",
        "\n",
        "action = input (\"Would you like to VIEW the executives' tax of ticker '\"+ updatedticker + \"' now or SAVE it to cvs file, or BOTH view and save? (V/S/B)\")\n",
        "\n",
        "valid = False\n",
        "\n",
        "while not valid:\n",
        "  if action in ['V','S','B','v','s','b']: \n",
        "    valid = True\n",
        "  else:\n",
        "    print ('Please re-input, V for View, S for Save, and B for Both')\n",
        "    action = input (\"Would you like to VIEW the executives' tax of ticker '\"+ updatedticker + \"' now or SAVE it to cvs file, or BOTH view and save? (V/S/B)\")  \n",
        "    \n",
        "if action in ['V','B','v','b']: \n",
        "      print(\"\\n\")\n",
        "      view_records()  \n",
        "      print(\"Thanks for viewing\")\n",
        "      print(\"\\n\")\n",
        "if action in ['S','B','s','b']:\n",
        "      filename = input('Please input the filename you would like to save as a csv file (Enter blank to use the first 3 charactors of the ticker as filename): ')\n",
        "      if filename == '':\n",
        "        output_to_cvs(updatedticker[0:3])  # use first 3 charactors to avoid picking the dot for use in filename\n",
        "        filename = updatedticker[0:3]\n",
        "      else:\n",
        "        output_to_cvs(filename)\n",
        "      print(\"The file \" + filename + \".cvs has been saved. Thanks.\") \n",
        "\n",
        "\n"
      ],
      "execution_count": 32,
      "outputs": [
        {
          "name": "stdout",
          "output_type": "stream",
          "text": [
            "Please input a ticker symbol to view the excecutives' annual pay and the calculated AXO tax (e.g. NAB.AX): goog\n",
            "If the company of the ticker is not listed in Australia, please input FX: 1 ForeignCurrency = ? AUD: (Enter blank if Australia listed) 1\n",
            "https://finance.yahoo.com/quote/goog/profile?p=goog\n",
            "[{'name': 'Mr. Sundar  Pichai', 'title': 'CEO & Director', 'pay': '7.43M', 'tax': '3.31M'}, {'name': 'Mr. Lawrence Edward Page', 'title': 'Co-Founder & Director', 'pay': '1', 'tax': '0'}, {'name': 'Mr. Sergey  Brin', 'title': 'Co-Founder & Director', 'pay': '1', 'tax': '0'}, {'name': 'Ms. Ruth M. Porat', 'title': 'Sr. VP & CFO', 'pay': '672.77k', 'tax': '273.41k'}, {'name': 'Dr. Prabhakar  Raghavan', 'title': 'Sr. VP of Google', 'pay': '664.75k', 'tax': '269.8k'}, {'name': 'Mr. Philipp  Schindler', 'title': 'Sr. VP & Chief Bus. Officer of Google', 'pay': '881.82k', 'tax': '367.49k'}, {'name': 'Mr. Kent  Walker', 'title': 'Corp. Sec.', 'pay': '664.75k', 'tax': '269.8k'}, {'name': \"Ms. Amie Thuener O'Toole\", 'title': 'Chief Accounting Officer & VP', 'pay': 'N/A', 'tax': 'N/A'}, {'name': 'Ms. Ellen  West', 'title': 'VP of Investor Relations', 'pay': 'N/A', 'tax': 'N/A'}, {'name': 'Ms. Fiona Clare Cicconi', 'title': 'Chief People Officer', 'pay': 'N/A', 'tax': 'N/A'}]\n",
            "[{'name': 'Mr. Sundar  Pichai', 'title': 'CEO & Director', 'pay': '7.43M', 'tax': '3.31M'}, {'name': 'Mr. Lawrence Edward Page', 'title': 'Co-Founder & Director', 'pay': '1', 'tax': '0'}, {'name': 'Mr. Sergey  Brin', 'title': 'Co-Founder & Director', 'pay': '1', 'tax': '0'}, {'name': 'Ms. Ruth M. Porat', 'title': 'Sr. VP & CFO', 'pay': '672.77k', 'tax': '273.41k'}, {'name': 'Dr. Prabhakar  Raghavan', 'title': 'Sr. VP of Google', 'pay': '664.75k', 'tax': '269.8k'}, {'name': 'Mr. Philipp  Schindler', 'title': 'Sr. VP & Chief Bus. Officer of Google', 'pay': '881.82k', 'tax': '367.49k'}, {'name': 'Mr. Kent  Walker', 'title': 'Corp. Sec.', 'pay': '664.75k', 'tax': '269.8k'}, {'name': \"Ms. Amie Thuener O'Toole\", 'title': 'Chief Accounting Officer & VP', 'pay': 'N/A', 'tax': 'N/A'}, {'name': 'Ms. Ellen  West', 'title': 'VP of Investor Relations', 'pay': 'N/A', 'tax': 'N/A'}, {'name': 'Ms. Fiona Clare Cicconi', 'title': 'Chief People Officer', 'pay': 'N/A', 'tax': 'N/A'}]\n",
            "please input the filename you would like to save as a csv file (Enter blank to use the first 3 charactors of the ticker as filename): rec\n"
          ]
        }
      ]
    },
    {
      "cell_type": "code",
      "metadata": {
        "colab": {
          "base_uri": "https://localhost:8080/"
        },
        "id": "NeOTIkETIliH",
        "outputId": "5861bac8-5178-41f4-fb73-d054910aa719"
      },
      "source": [
        "\n",
        "  \n"
      ],
      "execution_count": 73,
      "outputs": [
        {
          "output_type": "stream",
          "name": "stdout",
          "text": [
            "Would you like to VIEW the executives' tax of ticker 'goog' now or SAVE it to cvs file, or BOTH view and save? (V/S/B)t\n",
            "Please re-input, V for View, S for Save, and B for Both\n",
            "Would you like to VIEW the executives' tax of ticker 'goog' now or SAVE it to cvs file, or BOTH view and save? (V/S/B)\n",
            "Please re-input, V for View, S for Save, and B for Both\n",
            "Would you like to VIEW the executives' tax of ticker 'goog' now or SAVE it to cvs file, or BOTH view and save? (V/S/B)\n",
            "Please re-input, V for View, S for Save, and B for Both\n",
            "Would you like to VIEW the executives' tax of ticker 'goog' now or SAVE it to cvs file, or BOTH view and save? (V/S/B)t\n",
            "Please re-input, V for View, S for Save, and B for Both\n",
            "Would you like to VIEW the executives' tax of ticker 'goog' now or SAVE it to cvs file, or BOTH view and save? (V/S/B)t\n",
            "Please re-input, V for View, S for Save, and B for Both\n",
            "Would you like to VIEW the executives' tax of ticker 'goog' now or SAVE it to cvs file, or BOTH view and save? (V/S/B)b\n",
            "\n",
            "\n",
            "Pay(OriginalCurrency) \tTax(AUD) \tName & Title\n",
            "7.43M\t\t\t3.31M\t\tMr. Sundar  Pichai as CEO & Director\n",
            "1\t\t\t0\t\tMr. Lawrence Edward Page as Co-Founder & Director\n",
            "1\t\t\t0\t\tMr. Sergey  Brin as Co-Founder & Director\n",
            "672.77k\t\t\t273.41k\t\tMs. Ruth M. Porat as Sr. VP & CFO\n",
            "664.75k\t\t\t269.8k\t\tDr. Prabhakar  Raghavan as Sr. VP of Google\n",
            "881.82k\t\t\t367.49k\t\tMr. Philipp  Schindler as Sr. VP & Chief Bus. Officer of Google\n",
            "664.75k\t\t\t269.8k\t\tMr. Kent  Walker as Corp. Sec.\n",
            "N/A\t\t\tN/A\t\tMs. Amie Thuener O'Toole as Chief Accounting Officer & VP\n",
            "N/A\t\t\tN/A\t\tMs. Ellen  West as VP of Investor Relations\n",
            "N/A\t\t\tN/A\t\tMs. Fiona Clare Cicconi as Chief People Officer\n",
            "Thanks for viewing\n",
            "\n",
            "\n",
            "Please input the filename you would like to save as a csv file (Enter blank to use the first 3 charactors of the ticker as filename): hi\n",
            "The file hi.cvs has been saved. Thanks.\n"
          ]
        }
      ]
    },
    {
      "cell_type": "code",
      "metadata": {
        "id": "jYyimW6Wymjp"
      },
      "source": [
        "\n"
      ],
      "execution_count": null,
      "outputs": []
    }
  ]
}